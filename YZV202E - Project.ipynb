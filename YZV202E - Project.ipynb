{
 "cells": [
  {
   "cell_type": "code",
   "execution_count": null,
   "id": "509881a3",
   "metadata": {},
   "outputs": [],
   "source": [
    "\"\"\"\n",
    "\n",
    "YZV 202E - Optimization for Data Science\n",
    "\n",
    "Term Project\n",
    "\n",
    "Efficient Post-Earthquake Relief Supply Distribution in Turkey: \n",
    "A Comparative Analysis of Particle Swarm Optimization and Mixed-Integer Linear Programming\n",
    "\n",
    "Oğuz Kağan Pürçek\n",
    "150220759\n",
    "\n",
    "\"\"\""
   ]
  },
  {
   "cell_type": "code",
   "execution_count": 8,
   "id": "fb928f75",
   "metadata": {
    "scrolled": false
   },
   "outputs": [
    {
     "name": "stdout",
     "output_type": "stream",
     "text": [
      "distributioncenter.csv read successfully. The first 5 rows are as follows:\n",
      "\n",
      "     Center  Population SupplyFood SupplyWater SupplyMedicine\n",
      "0  Istanbul  15,907,951  3,981,988   3,185,590      2,389,193\n",
      "1    Ankara   5,782,285  1,445,571   1,156,457        867,343\n",
      "2    Samsun   1,368,488    342,122     273,698        205,273\n",
      "3   Antalya   2,688,004    672,001     537,601        403,201\n",
      "4     İzmir   4,462,056  1,115,514     892,411        669,308\n",
      "effectedcities.csv read successfully. The first 5 rows are as follows:\n",
      "\n",
      "         City Population DamageLevel DemandFood DemandWater DemandMedicine\n",
      "0       Adana  2,274,106        High    547,023     436,819        328,114\n",
      "1    Adıyaman    635,169    Moderate    152,441     121,952         91,463\n",
      "2  Diyarbakır  1,804,880        High    433,174     346,539        259,904\n",
      "3   Gaziantep  2,154,051    Moderate    516,972     413,578        310,183\n",
      "4       Hatay  1,686,043         Low    337,209     269,767        202,325\n",
      "transportinfo.csv read successfully. The first 5 rows are as follows:\n",
      "\n",
      "     Source Destination  Distance Transport Road  Road Cost Transport Air  \\\n",
      "0  Istanbul       Adana       892           Open          1          Open   \n",
      "1  Istanbul    Adıyaman       939           Open          1          Open   \n",
      "2  Istanbul  Diyarbakır      1273         Closed          1          Open   \n",
      "3  Istanbul   Gaziantep      1220           Open          1          Open   \n",
      "4  Istanbul       Hatay      1210         Closed          1          Open   \n",
      "\n",
      "   Air Cost  \n",
      "0         3  \n",
      "1         3  \n",
      "2         3  \n",
      "3         3  \n",
      "4         3  \n",
      "Supply Center: Istanbul\n"
     ]
    },
    {
     "data": {
      "application/vnd.jupyter.widget-view+json": {
       "model_id": "c6d97aae29ec40509822e9b3b0ed0b6c",
       "version_major": 2,
       "version_minor": 0
      },
      "text/plain": [
       "IntSlider(value=1000000, description='Food', max=1000000)"
      ]
     },
     "metadata": {},
     "output_type": "display_data"
    },
    {
     "data": {
      "application/vnd.jupyter.widget-view+json": {
       "model_id": "4b6c4cade48243579568501ea70da2bd",
       "version_major": 2,
       "version_minor": 0
      },
      "text/plain": [
       "IntSlider(value=1000000, description='Water', max=1000000)"
      ]
     },
     "metadata": {},
     "output_type": "display_data"
    },
    {
     "data": {
      "application/vnd.jupyter.widget-view+json": {
       "model_id": "30933bb5e4a446388d6e58f1956cf320",
       "version_major": 2,
       "version_minor": 0
      },
      "text/plain": [
       "IntSlider(value=1000000, description='Medicine', max=1000000)"
      ]
     },
     "metadata": {},
     "output_type": "display_data"
    },
    {
     "name": "stdout",
     "output_type": "stream",
     "text": [
      "\n",
      "Supply Center: Ankara\n"
     ]
    },
    {
     "data": {
      "application/vnd.jupyter.widget-view+json": {
       "model_id": "b67948875dbb49ceb6b30b15e038b1ce",
       "version_major": 2,
       "version_minor": 0
      },
      "text/plain": [
       "IntSlider(value=1000000, description='Food', max=1000000)"
      ]
     },
     "metadata": {},
     "output_type": "display_data"
    },
    {
     "data": {
      "application/vnd.jupyter.widget-view+json": {
       "model_id": "07e571ae739d425db535710a93dbf2a4",
       "version_major": 2,
       "version_minor": 0
      },
      "text/plain": [
       "IntSlider(value=1000000, description='Water', max=1000000)"
      ]
     },
     "metadata": {},
     "output_type": "display_data"
    },
    {
     "data": {
      "application/vnd.jupyter.widget-view+json": {
       "model_id": "3684b5d484734877a858f8da6d33501d",
       "version_major": 2,
       "version_minor": 0
      },
      "text/plain": [
       "IntSlider(value=867343, description='Medicine', max=1000000)"
      ]
     },
     "metadata": {},
     "output_type": "display_data"
    },
    {
     "name": "stdout",
     "output_type": "stream",
     "text": [
      "\n",
      "Supply Center: Samsun\n"
     ]
    },
    {
     "data": {
      "application/vnd.jupyter.widget-view+json": {
       "model_id": "3d72c2d05d0b4be696af129206c9e8c2",
       "version_major": 2,
       "version_minor": 0
      },
      "text/plain": [
       "IntSlider(value=342122, description='Food', max=1000000)"
      ]
     },
     "metadata": {},
     "output_type": "display_data"
    },
    {
     "data": {
      "application/vnd.jupyter.widget-view+json": {
       "model_id": "da6a4e294694496aada78e79d4613894",
       "version_major": 2,
       "version_minor": 0
      },
      "text/plain": [
       "IntSlider(value=273698, description='Water', max=1000000)"
      ]
     },
     "metadata": {},
     "output_type": "display_data"
    },
    {
     "data": {
      "application/vnd.jupyter.widget-view+json": {
       "model_id": "93a7ace921e5444aa03e890c22ee44cd",
       "version_major": 2,
       "version_minor": 0
      },
      "text/plain": [
       "IntSlider(value=205273, description='Medicine', max=1000000)"
      ]
     },
     "metadata": {},
     "output_type": "display_data"
    },
    {
     "name": "stdout",
     "output_type": "stream",
     "text": [
      "\n",
      "Supply Center: Antalya\n"
     ]
    },
    {
     "data": {
      "application/vnd.jupyter.widget-view+json": {
       "model_id": "513f56af580744ab969c219d2d826f47",
       "version_major": 2,
       "version_minor": 0
      },
      "text/plain": [
       "IntSlider(value=672001, description='Food', max=1000000)"
      ]
     },
     "metadata": {},
     "output_type": "display_data"
    },
    {
     "data": {
      "application/vnd.jupyter.widget-view+json": {
       "model_id": "efec804682724f829ae09272fabf5bc4",
       "version_major": 2,
       "version_minor": 0
      },
      "text/plain": [
       "IntSlider(value=537601, description='Water', max=1000000)"
      ]
     },
     "metadata": {},
     "output_type": "display_data"
    },
    {
     "data": {
      "application/vnd.jupyter.widget-view+json": {
       "model_id": "1769d4d260e048f9a9679e0b325ae3e3",
       "version_major": 2,
       "version_minor": 0
      },
      "text/plain": [
       "IntSlider(value=403201, description='Medicine', max=1000000)"
      ]
     },
     "metadata": {},
     "output_type": "display_data"
    },
    {
     "name": "stdout",
     "output_type": "stream",
     "text": [
      "\n",
      "Supply Center: İzmir\n"
     ]
    },
    {
     "data": {
      "application/vnd.jupyter.widget-view+json": {
       "model_id": "747af51b4c6e445a8b5c34df2ce14f8e",
       "version_major": 2,
       "version_minor": 0
      },
      "text/plain": [
       "IntSlider(value=1000000, description='Food', max=1000000)"
      ]
     },
     "metadata": {},
     "output_type": "display_data"
    },
    {
     "data": {
      "application/vnd.jupyter.widget-view+json": {
       "model_id": "0428bcec110a420ea5538284d6bef788",
       "version_major": 2,
       "version_minor": 0
      },
      "text/plain": [
       "IntSlider(value=892411, description='Water', max=1000000)"
      ]
     },
     "metadata": {},
     "output_type": "display_data"
    },
    {
     "data": {
      "application/vnd.jupyter.widget-view+json": {
       "model_id": "63ac037fe010489383ad9d32e9e0db5a",
       "version_major": 2,
       "version_minor": 0
      },
      "text/plain": [
       "IntSlider(value=669308, description='Medicine', max=1000000)"
      ]
     },
     "metadata": {},
     "output_type": "display_data"
    },
    {
     "name": "stdout",
     "output_type": "stream",
     "text": [
      "\n",
      "Demand City: Adana\n"
     ]
    },
    {
     "data": {
      "application/vnd.jupyter.widget-view+json": {
       "model_id": "b683ae9cc98a4b6fbd5e3f54b9a0ac22",
       "version_major": 2,
       "version_minor": 0
      },
      "text/plain": [
       "IntSlider(value=547023, description='Food', max=1000000)"
      ]
     },
     "metadata": {},
     "output_type": "display_data"
    },
    {
     "data": {
      "application/vnd.jupyter.widget-view+json": {
       "model_id": "6ed1f0e764e5484e81f4570e3051935a",
       "version_major": 2,
       "version_minor": 0
      },
      "text/plain": [
       "IntSlider(value=436819, description='Water', max=1000000)"
      ]
     },
     "metadata": {},
     "output_type": "display_data"
    },
    {
     "data": {
      "application/vnd.jupyter.widget-view+json": {
       "model_id": "1ba1326cb12b4802863cc3e29595c2a6",
       "version_major": 2,
       "version_minor": 0
      },
      "text/plain": [
       "IntSlider(value=328114, description='Medicine', max=1000000)"
      ]
     },
     "metadata": {},
     "output_type": "display_data"
    },
    {
     "name": "stdout",
     "output_type": "stream",
     "text": [
      "\n",
      "Demand City: Adıyaman\n"
     ]
    },
    {
     "data": {
      "application/vnd.jupyter.widget-view+json": {
       "model_id": "5960f38bd0a3473c90ce8f5f6c6e425c",
       "version_major": 2,
       "version_minor": 0
      },
      "text/plain": [
       "IntSlider(value=152441, description='Food', max=1000000)"
      ]
     },
     "metadata": {},
     "output_type": "display_data"
    },
    {
     "data": {
      "application/vnd.jupyter.widget-view+json": {
       "model_id": "bf07f033e2dd4e74a00a1e31390cd12f",
       "version_major": 2,
       "version_minor": 0
      },
      "text/plain": [
       "IntSlider(value=121952, description='Water', max=1000000)"
      ]
     },
     "metadata": {},
     "output_type": "display_data"
    },
    {
     "data": {
      "application/vnd.jupyter.widget-view+json": {
       "model_id": "456ce4f8ab41426d940effc7352f47f7",
       "version_major": 2,
       "version_minor": 0
      },
      "text/plain": [
       "IntSlider(value=91463, description='Medicine', max=1000000)"
      ]
     },
     "metadata": {},
     "output_type": "display_data"
    },
    {
     "name": "stdout",
     "output_type": "stream",
     "text": [
      "\n",
      "Demand City: Diyarbakır\n"
     ]
    },
    {
     "data": {
      "application/vnd.jupyter.widget-view+json": {
       "model_id": "4b8dc7c65b2d4cb7beef305ea1591fa2",
       "version_major": 2,
       "version_minor": 0
      },
      "text/plain": [
       "IntSlider(value=433174, description='Food', max=1000000)"
      ]
     },
     "metadata": {},
     "output_type": "display_data"
    },
    {
     "data": {
      "application/vnd.jupyter.widget-view+json": {
       "model_id": "aa2378ba2c054c229d42cc97872ba2a2",
       "version_major": 2,
       "version_minor": 0
      },
      "text/plain": [
       "IntSlider(value=346539, description='Water', max=1000000)"
      ]
     },
     "metadata": {},
     "output_type": "display_data"
    },
    {
     "data": {
      "application/vnd.jupyter.widget-view+json": {
       "model_id": "0f51763d0392425c98cdb96929170304",
       "version_major": 2,
       "version_minor": 0
      },
      "text/plain": [
       "IntSlider(value=259904, description='Medicine', max=1000000)"
      ]
     },
     "metadata": {},
     "output_type": "display_data"
    },
    {
     "name": "stdout",
     "output_type": "stream",
     "text": [
      "\n",
      "Demand City: Gaziantep\n"
     ]
    },
    {
     "data": {
      "application/vnd.jupyter.widget-view+json": {
       "model_id": "0d3e6fe6c6284feaa3e69b325f27afd8",
       "version_major": 2,
       "version_minor": 0
      },
      "text/plain": [
       "IntSlider(value=516972, description='Food', max=1000000)"
      ]
     },
     "metadata": {},
     "output_type": "display_data"
    },
    {
     "data": {
      "application/vnd.jupyter.widget-view+json": {
       "model_id": "20a454e21501429582f28a6e84e670cf",
       "version_major": 2,
       "version_minor": 0
      },
      "text/plain": [
       "IntSlider(value=413578, description='Water', max=1000000)"
      ]
     },
     "metadata": {},
     "output_type": "display_data"
    },
    {
     "data": {
      "application/vnd.jupyter.widget-view+json": {
       "model_id": "a9332fc7e292457a8e2e0c12fed1eae4",
       "version_major": 2,
       "version_minor": 0
      },
      "text/plain": [
       "IntSlider(value=310183, description='Medicine', max=1000000)"
      ]
     },
     "metadata": {},
     "output_type": "display_data"
    },
    {
     "name": "stdout",
     "output_type": "stream",
     "text": [
      "\n",
      "Demand City: Hatay\n"
     ]
    },
    {
     "data": {
      "application/vnd.jupyter.widget-view+json": {
       "model_id": "b3fe02c729464395807796a9d8c8c973",
       "version_major": 2,
       "version_minor": 0
      },
      "text/plain": [
       "IntSlider(value=337209, description='Food', max=1000000)"
      ]
     },
     "metadata": {},
     "output_type": "display_data"
    },
    {
     "data": {
      "application/vnd.jupyter.widget-view+json": {
       "model_id": "a0fb50999e64434596d7778788613f35",
       "version_major": 2,
       "version_minor": 0
      },
      "text/plain": [
       "IntSlider(value=269767, description='Water', max=1000000)"
      ]
     },
     "metadata": {},
     "output_type": "display_data"
    },
    {
     "data": {
      "application/vnd.jupyter.widget-view+json": {
       "model_id": "0b909e2314ae4904a9e4d323b0262f06",
       "version_major": 2,
       "version_minor": 0
      },
      "text/plain": [
       "IntSlider(value=202325, description='Medicine', max=1000000)"
      ]
     },
     "metadata": {},
     "output_type": "display_data"
    },
    {
     "name": "stdout",
     "output_type": "stream",
     "text": [
      "\n",
      "Demand City: Kahramanmaraş\n"
     ]
    },
    {
     "data": {
      "application/vnd.jupyter.widget-view+json": {
       "model_id": "1346ed87711d4da8bbe6cf9d68815474",
       "version_major": 2,
       "version_minor": 0
      },
      "text/plain": [
       "IntSlider(value=235487, description='Food', max=1000000)"
      ]
     },
     "metadata": {},
     "output_type": "display_data"
    },
    {
     "data": {
      "application/vnd.jupyter.widget-view+json": {
       "model_id": "28cb6561aece4d3a99c271fbf7a04371",
       "version_major": 2,
       "version_minor": 0
      },
      "text/plain": [
       "IntSlider(value=188390, description='Water', max=1000000)"
      ]
     },
     "metadata": {},
     "output_type": "display_data"
    },
    {
     "data": {
      "application/vnd.jupyter.widget-view+json": {
       "model_id": "417a9ed815c9467489309cd2e00a3e08",
       "version_major": 2,
       "version_minor": 0
      },
      "text/plain": [
       "IntSlider(value=141293, description='Medicine', max=1000000)"
      ]
     },
     "metadata": {},
     "output_type": "display_data"
    },
    {
     "name": "stdout",
     "output_type": "stream",
     "text": [
      "\n",
      "Demand City: Kilis\n"
     ]
    },
    {
     "data": {
      "application/vnd.jupyter.widget-view+json": {
       "model_id": "46b31cbc980c4e28b80c1c0c9c3c54b2",
       "version_major": 2,
       "version_minor": 0
      },
      "text/plain": [
       "IntSlider(value=35501, description='Food', max=1000000)"
      ]
     },
     "metadata": {},
     "output_type": "display_data"
    },
    {
     "data": {
      "application/vnd.jupyter.widget-view+json": {
       "model_id": "0c3ed2ab7e1a4a9f8d31b8350368cab2",
       "version_major": 2,
       "version_minor": 0
      },
      "text/plain": [
       "IntSlider(value=28401, description='Water', max=1000000)"
      ]
     },
     "metadata": {},
     "output_type": "display_data"
    },
    {
     "data": {
      "application/vnd.jupyter.widget-view+json": {
       "model_id": "03ed45e228aa4a32a1ecb10f56760e2c",
       "version_major": 2,
       "version_minor": 0
      },
      "text/plain": [
       "IntSlider(value=21300, description='Medicine', max=1000000)"
      ]
     },
     "metadata": {},
     "output_type": "display_data"
    },
    {
     "name": "stdout",
     "output_type": "stream",
     "text": [
      "\n",
      "Demand City: Malatya\n"
     ]
    },
    {
     "data": {
      "application/vnd.jupyter.widget-view+json": {
       "model_id": "46cfec7d26434d7499d1b7f20220ec34",
       "version_major": 2,
       "version_minor": 0
      },
      "text/plain": [
       "IntSlider(value=195020, description='Food', max=1000000)"
      ]
     },
     "metadata": {},
     "output_type": "display_data"
    },
    {
     "data": {
      "application/vnd.jupyter.widget-view+json": {
       "model_id": "6577638bfe9741f59fd17b42d4464179",
       "version_major": 2,
       "version_minor": 0
      },
      "text/plain": [
       "IntSlider(value=156016, description='Water', max=1000000)"
      ]
     },
     "metadata": {},
     "output_type": "display_data"
    },
    {
     "data": {
      "application/vnd.jupyter.widget-view+json": {
       "model_id": "04efe7a7344a47c39b29518cf8826ddf",
       "version_major": 2,
       "version_minor": 0
      },
      "text/plain": [
       "IntSlider(value=117012, description='Medicine', max=1000000)"
      ]
     },
     "metadata": {},
     "output_type": "display_data"
    },
    {
     "name": "stdout",
     "output_type": "stream",
     "text": [
      "\n",
      "Demand City: Osmaniye\n"
     ]
    },
    {
     "data": {
      "application/vnd.jupyter.widget-view+json": {
       "model_id": "d526c17383b14abfb4460fc581e026b4",
       "version_major": 2,
       "version_minor": 0
      },
      "text/plain": [
       "IntSlider(value=111881, description='Food', max=1000000)"
      ]
     },
     "metadata": {},
     "output_type": "display_data"
    },
    {
     "data": {
      "application/vnd.jupyter.widget-view+json": {
       "model_id": "895edcdf6542420e97d67e550e1de366",
       "version_major": 2,
       "version_minor": 0
      },
      "text/plain": [
       "IntSlider(value=89504, description='Water', max=1000000)"
      ]
     },
     "metadata": {},
     "output_type": "display_data"
    },
    {
     "data": {
      "application/vnd.jupyter.widget-view+json": {
       "model_id": "17194de5fb97406781f5a4d442c9e550",
       "version_major": 2,
       "version_minor": 0
      },
      "text/plain": [
       "IntSlider(value=67128, description='Medicine', max=1000000)"
      ]
     },
     "metadata": {},
     "output_type": "display_data"
    },
    {
     "name": "stdout",
     "output_type": "stream",
     "text": [
      "\n",
      "Demand City: Şanlıurfa\n"
     ]
    },
    {
     "data": {
      "application/vnd.jupyter.widget-view+json": {
       "model_id": "b478c0106fd14b98baac9d55b7afc2ca",
       "version_major": 2,
       "version_minor": 0
      },
      "text/plain": [
       "IntSlider(value=521226, description='Food', max=1000000)"
      ]
     },
     "metadata": {},
     "output_type": "display_data"
    },
    {
     "data": {
      "application/vnd.jupyter.widget-view+json": {
       "model_id": "4ff00bb38aac4a39aca61a3fd90deb5d",
       "version_major": 2,
       "version_minor": 0
      },
      "text/plain": [
       "IntSlider(value=416981, description='Water', max=1000000)"
      ]
     },
     "metadata": {},
     "output_type": "display_data"
    },
    {
     "data": {
      "application/vnd.jupyter.widget-view+json": {
       "model_id": "1709c1c626514f4f8e7cac16b3a96540",
       "version_major": 2,
       "version_minor": 0
      },
      "text/plain": [
       "IntSlider(value=312736, description='Medicine', max=1000000)"
      ]
     },
     "metadata": {},
     "output_type": "display_data"
    },
    {
     "name": "stdout",
     "output_type": "stream",
     "text": [
      "\n",
      "Demand City: Elazığ\n"
     ]
    },
    {
     "data": {
      "application/vnd.jupyter.widget-view+json": {
       "model_id": "e0e0c4240e8b4b1fbadaf1e6c08285b4",
       "version_major": 2,
       "version_minor": 0
      },
      "text/plain": [
       "IntSlider(value=142953, description='Food', max=1000000)"
      ]
     },
     "metadata": {},
     "output_type": "display_data"
    },
    {
     "data": {
      "application/vnd.jupyter.widget-view+json": {
       "model_id": "6995062b818d4a2896a8a89945a8d403",
       "version_major": 2,
       "version_minor": 0
      },
      "text/plain": [
       "IntSlider(value=114362, description='Water', max=1000000)"
      ]
     },
     "metadata": {},
     "output_type": "display_data"
    },
    {
     "data": {
      "application/vnd.jupyter.widget-view+json": {
       "model_id": "2dfd173187e148f096359795c0b869f2",
       "version_major": 2,
       "version_minor": 0
      },
      "text/plain": [
       "IntSlider(value=85771, description='Medicine', max=1000000)"
      ]
     },
     "metadata": {},
     "output_type": "display_data"
    },
    {
     "name": "stdout",
     "output_type": "stream",
     "text": [
      "\n"
     ]
    },
    {
     "data": {
      "application/vnd.jupyter.widget-view+json": {
       "model_id": "5c8b90032dc74a10831751f41d7db5bc",
       "version_major": 2,
       "version_minor": 0
      },
      "text/plain": [
       "Button(description='Solve', style=ButtonStyle())"
      ]
     },
     "metadata": {},
     "output_type": "display_data"
    },
    {
     "name": "stdout",
     "output_type": "stream",
     "text": [
      "Best Particle:\n",
      "[[0.5414530393299944, 0.006365693267111228, 0.04952427056466435, 0.16165137495836446, 0.0027185165826469904], [0.10577568214505906, 0.21403499337705134, 0.9603919726371569, 0.20763925604239075, 0.22050961273437208], [0.6249005055205488, 0.05183514878448925, 0.06980160958266202, 0.9229977114118035, 0.7528000912144082], [0.5617420771538737, 0.012623214335116817, 0.6405275666522521, 0.9194690523710389, 0.10220863135994962], [0.4971930054185343, 0.1759368079200465, 0.19127605988716223, 0.019054830590247707, 0.6890415565120016], [0.5936064330560782, 0.20738163303539692, 0.6526213441385958, 0.7709884252655171, 0.05643883550425133], [0.6710990912352032, 0.7644763574813306, 0.22115119315212117, 0.5602531463213157, 0.4163107974512069], [0.910538815473769, 0.4986880671455577, 0.1333301741178543, 0.22426898666305084, 0.10522599388394549], [0.1888825600132069, 0.9290149773360935, 0.492639840119941, 0.7751227278355691, 0.8771345550241532], [0.46432734778971674, 0.8470572215708432, 0.14336502266849638, 0.7729065521328436, 0.07646253179748885], [0.9118446720799781, 0.9111220490200435, 0.09771535226936268, 0.2006077420194331, 0.8012516521222072]]\n",
      "Fitness:\n",
      "0.9378838590579363\n",
      "Routes and Costs:\n",
      "Route(Adana):\n",
      "\t- Food: Source(İzmir), Cost(0.0027185165826469904)\n",
      "\t- Water: Source(İzmir), Cost(0.0027185165826469904)\n",
      "\t- Medicine: Source(İzmir), Cost(0.0027185165826469904)\n",
      "Route(Adıyaman):\n",
      "\t- Food: Source(Istanbul), Cost(0.10577568214505906)\n",
      "\t- Water: Source(Istanbul), Cost(0.10577568214505906)\n",
      "\t- Medicine: Source(Istanbul), Cost(0.10577568214505906)\n",
      "Route(Diyarbakır):\n",
      "\t- Food: Source(Ankara), Cost(0.05183514878448925)\n",
      "\t- Water: Source(Ankara), Cost(0.05183514878448925)\n",
      "\t- Medicine: Source(Ankara), Cost(0.05183514878448925)\n",
      "Route(Gaziantep):\n",
      "\t- Food: Source(Ankara), Cost(0.012623214335116817)\n",
      "\t- Water: Source(Ankara), Cost(0.012623214335116817)\n",
      "\t- Medicine: Source(Ankara), Cost(0.012623214335116817)\n",
      "Route(Hatay):\n",
      "\t- Food: Source(Antalya), Cost(0.019054830590247707)\n",
      "\t- Water: Source(Antalya), Cost(0.019054830590247707)\n",
      "\t- Medicine: Source(Antalya), Cost(0.019054830590247707)\n",
      "Route(Kahramanmaraş):\n",
      "\t- Food: Source(İzmir), Cost(0.05643883550425133)\n",
      "\t- Water: Source(İzmir), Cost(0.05643883550425133)\n",
      "\t- Medicine: Source(İzmir), Cost(0.05643883550425133)\n",
      "Route(Kilis):\n",
      "\t- Food: Source(Samsun), Cost(0.22115119315212117)\n",
      "\t- Water: Source(Samsun), Cost(0.22115119315212117)\n",
      "\t- Medicine: Source(Samsun), Cost(0.22115119315212117)\n",
      "Route(Malatya):\n",
      "\t- Food: Source(İzmir), Cost(0.10522599388394549)\n",
      "\t- Water: Source(İzmir), Cost(0.10522599388394549)\n",
      "\t- Medicine: Source(İzmir), Cost(0.10522599388394549)\n",
      "Route(Osmaniye):\n",
      "\t- Food: Source(Istanbul), Cost(0.1888825600132069)\n",
      "\t- Water: Source(Istanbul), Cost(0.1888825600132069)\n",
      "\t- Medicine: Source(Istanbul), Cost(0.1888825600132069)\n",
      "Route(Şanlıurfa):\n",
      "\t- Food: Source(İzmir), Cost(0.07646253179748885)\n",
      "\t- Water: Source(İzmir), Cost(0.07646253179748885)\n",
      "\t- Medicine: Source(İzmir), Cost(0.07646253179748885)\n",
      "Route(Elazığ):\n",
      "\t- Food: Source(Samsun), Cost(0.09771535226936268)\n",
      "\t- Water: Source(Samsun), Cost(0.09771535226936268)\n",
      "\t- Medicine: Source(Samsun), Cost(0.09771535226936268)\n"
     ]
    }
   ],
   "source": [
    "#Particle Swarm Optimization\n",
    "\n",
    "import pandas as pd\n",
    "import random\n",
    "import ipywidgets as widgets\n",
    "from IPython.display import display\n",
    "\n",
    "# Function that reads a csv file and returns a pandas dataframe \n",
    "def read_csv(file_name):\n",
    "    try:\n",
    "        data = pd.read_csv(file_name, sep=',', quotechar='\"', engine='python') \n",
    "        print(f\"{file_name} read successfully. The first 5 rows are as follows:\\n\") # Print first 5 rows\n",
    "        print(data.head())\n",
    "    except FileNotFoundError:\n",
    "        print(f\"{file_name} not found.\") # Print error message\n",
    "        return None\n",
    "    except pd.errors.ParserError:\n",
    "        print(f\"An error occurred while reading {file_name} file.\") # Print error message that parser could not read the file\n",
    "        return None\n",
    "\n",
    "    # Check if there are any missing values\n",
    "    if data.isnull().values.any(): \n",
    "        print(f\"{file_name} has missing values.\")\n",
    "    return data\n",
    "\n",
    "# Function to calculate the cost of a route\n",
    "def calculate_route_cost(source, destination, material, costs):\n",
    "    key = (source, destination)\n",
    "\n",
    "    # Check if the key exists in the dictionary\n",
    "    if key in costs: \n",
    "        return costs[key][material]['cost'] \n",
    "    else:\n",
    "        return float('inf') # Return infinity if the key does not exist\n",
    "\n",
    "# Function to initialize particles for particle swarm optimization\n",
    "def initialize_particles(num_particles, num_dimensions, demand):\n",
    "    particles = []\n",
    "\n",
    "    # For each particle, create a random particle\n",
    "    for _ in range(num_particles): \n",
    "        particle = [[random.uniform(0, 1) for _ in range(num_dimensions)] for _ in range(len(demand))] # Create a random particle\n",
    "        particles.append(particle) # Add the particle to the list of particles\n",
    "    return particles\n",
    "\n",
    "# Function to update the velocity of a particle\n",
    "def update_particle_velocity(particle, best_particle, global_best_particle, inertia_weight, cognitive_weight, social_weight):\n",
    "    new_velocity = []\n",
    "\n",
    "    # For each dimension of the particle, calculate the new velocity\n",
    "    for i in range(len(particle)): \n",
    "        particle_velocity = [] \n",
    "        for j in range(len(particle[i])):\n",
    "            inertia_term = inertia_weight * particle[i][j] # Calculate the inertia term\n",
    "            cognitive_term = cognitive_weight * random.uniform(0, 1) * (best_particle[i][j] - particle[i][j]) # Calculate the cognitive term\n",
    "            social_term = social_weight * random.uniform(0, 1) * (global_best_particle[i][j] - particle[i][j]) # Calculate the social term \n",
    "            particle_velocity.append(inertia_term + cognitive_term + social_term) # Calculate the new velocity \n",
    "        new_velocity.append(particle_velocity) # Add the new velocity to the list of velocities\n",
    "    return new_velocity\n",
    "\n",
    "# Function to update the position of a particle\n",
    "def update_particle_position(particle, velocity):\n",
    "    new_position = []\n",
    "\n",
    "    # For each dimension of the particle, calculate the new position\n",
    "    for i in range(len(particle)): \n",
    "        particle_position = []\n",
    "        for j in range(len(particle[i])):\n",
    "            particle_position.append(particle[i][j] + velocity[i][j]) \n",
    "        new_position.append(particle_position)\n",
    "    return new_position\n",
    "\n",
    "# Function to evaluate a particle's fitness and generate routes\n",
    "def evaluate_particle(particle, supply, demand, costs):\n",
    "    total_cost = 0\n",
    "    routes = []\n",
    "\n",
    "    # For each demand, find the best source for each material\n",
    "    for i in range(len(demand)):\n",
    "        destination = demand[i]['city'] # Get the destination city\n",
    "        best_source_food = None \n",
    "        best_source_water = None\n",
    "        best_source_medicine = None\n",
    "        min_cost_food = float('inf')\n",
    "        min_cost_water = float('inf')\n",
    "        min_cost_medicine = float('inf')\n",
    "    \n",
    "        for j in range(len(supply)):\n",
    "            source = supply[j]['center'] # Get the source center\n",
    "            quantity = particle[i][j] # Get the quantity of the material\n",
    "\n",
    "            # Calculate the cost of the transportation of each material\n",
    "            cost_food = calculate_route_cost(source, destination, 'food', costs) \n",
    "            cost_water = calculate_route_cost(source, destination, 'water', costs) \n",
    "            cost_medicine = calculate_route_cost(source, destination, 'medicine', costs) \n",
    "\n",
    "            # Check if the cost of the transportation of each material is less than the minimum cost \n",
    "            if cost_food * quantity < min_cost_food:\n",
    "                best_source_food = source # If it is, update the best source of food\n",
    "                min_cost_food = cost_food * quantity # If it is, update the minimum cost\n",
    "\n",
    "            if cost_water * quantity < min_cost_water:\n",
    "                best_source_water = source # Update the best source of water\n",
    "                min_cost_water = cost_water * quantity # Update the minimum cost of water\n",
    "\n",
    "            if cost_medicine * quantity < min_cost_medicine:\n",
    "                best_source_medicine = source # Update the best source of medicine\n",
    "                min_cost_medicine = cost_medicine * quantity # Update the minimum cost of medicine\n",
    "\n",
    "        # Add the minimum cost of each material to the total cost\n",
    "        total_cost += min(min_cost_food, min_cost_water, min_cost_medicine)\n",
    "\n",
    "        # Add the best source of each material to the list of routes\n",
    "        routes.append(f\"Route({destination}):\\n\"\n",
    "                      f\"\\t- Food: Source({best_source_food}), Cost({min_cost_food})\\n\"\n",
    "                      f\"\\t- Water: Source({best_source_water}), Cost({min_cost_water})\\n\"\n",
    "                      f\"\\t- Medicine: Source({best_source_medicine}), Cost({min_cost_medicine})\")\n",
    "\n",
    "    return total_cost, routes\n",
    "\n",
    "# Function to perform Particle Swarm Optimization\n",
    "def particle_swarm_optimization(num_particles, num_dimensions, max_iterations, supply, demand, costs):\n",
    "    # Initialize the parameters\n",
    "    inertia_weight = 0.7 \n",
    "    cognitive_weight = 1.4 \n",
    "    social_weight = 1.4 \n",
    "\n",
    "    # Initialize the particles\n",
    "    particles = initialize_particles(num_particles, num_dimensions, demand)\n",
    "    best_particle = particles[0]\n",
    "    best_fitness = float('inf')\n",
    "    global_best_particle = best_particle \n",
    "\n",
    "    # For each iteration, update the velocity and position of the particle\n",
    "    for _ in range(max_iterations):\n",
    "        for particle in particles:\n",
    "            fitness, _ = evaluate_particle(particle, supply, demand, costs) # Evaluate the fitness of the particle\n",
    "\n",
    "            # Check if the fitness of the particle is less than the best fitness\n",
    "            if fitness < best_fitness:\n",
    "                best_fitness = fitness\n",
    "                best_particle = particle\n",
    "            \n",
    "            # Update the global best particle\n",
    "            global_best_particle = update_global_best_particle(particles, global_best_particle, supply, demand, costs)\n",
    "\n",
    "            # Update the velocity and position of the particle\n",
    "            velocity = update_particle_velocity(particle, best_particle, global_best_particle, inertia_weight, cognitive_weight, social_weight)\n",
    "            particle = update_particle_position(particle, velocity)\n",
    "\n",
    "    return global_best_particle\n",
    "\n",
    "# Function to update the global best particle in PSO\n",
    "def update_global_best_particle(particles, global_best_particle, supply, demand, costs):\n",
    "    global_best_fitness, _ = evaluate_particle(global_best_particle, supply, demand, costs) # Evaluate the fitness of the global best particle\n",
    "\n",
    "    # For each particle, evaluate the fitness of the particle\n",
    "    for particle in particles:\n",
    "        fitness, _ = evaluate_particle(particle, supply, demand, costs)\n",
    "\n",
    "        # Check if the fitness of the particle is less than the global best fitness\n",
    "        if fitness < global_best_fitness:\n",
    "            global_best_fitness = fitness\n",
    "            global_best_particle = particle\n",
    "\n",
    "    return global_best_particle\n",
    "\n",
    "# Main code\n",
    "\n",
    "# Read supply, demand, and costs data from CSV files\n",
    "supply_data = read_csv('distributioncenter.csv')\n",
    "demand_data = read_csv('effectedcities.csv')\n",
    "costs_data = read_csv('transportinfo.csv')\n",
    "\n",
    "# Check if the data was read successfully\n",
    "if any(data is None for data in [supply_data, demand_data, costs_data]):\n",
    "    print(\"All files could not be read successfully. Please check your files.\")\n",
    "else:\n",
    "    supply = []\n",
    "    demand = []\n",
    "    costs = {}\n",
    "\n",
    "    # Process supply data\n",
    "    for _, row in supply_data.iterrows():\n",
    "        center = row['Center']\n",
    "        food = int(row['SupplyFood'].replace(',', ''))\n",
    "        water = int(row['SupplyWater'].replace(',', ''))\n",
    "        medicine = int(row['SupplyMedicine'].replace(',', ''))\n",
    "        supply.append({\n",
    "            'center': center,\n",
    "            'food': food,\n",
    "            'water': water,\n",
    "            'medicine': medicine\n",
    "        })\n",
    "\n",
    "    # Process demand data\n",
    "    for _, row in demand_data.iterrows():\n",
    "        city = row['City']\n",
    "        food = int(row['DemandFood'].replace(',', ''))\n",
    "        water = int(row['DemandWater'].replace(',', ''))\n",
    "        medicine = int(row['DemandMedicine'].replace(',', ''))\n",
    "        demand.append({\n",
    "            'city': city,\n",
    "            'food': food,\n",
    "            'water': water,\n",
    "            'medicine': medicine\n",
    "        })\n",
    "\n",
    "    # Process costs data\n",
    "    for _, row in costs_data.iterrows():\n",
    "        source = row['Source']\n",
    "        destination = row['Destination']\n",
    "        distance = row['Distance']\n",
    "        road_cost = row['Road Cost']\n",
    "        air_cost = row['Air Cost']\n",
    "\n",
    "        if (source, destination) not in costs:\n",
    "            costs[(source, destination)] = {}\n",
    "\n",
    "        costs[(source, destination)] = {\n",
    "            'food': {'cost': road_cost, 'distance': distance, 'road': 'Open', 'air': 'Open', 'air_cost': air_cost},\n",
    "            'water': {'cost': road_cost, 'distance': distance, 'road': 'Open', 'air': 'Open', 'air_cost': air_cost},\n",
    "            'medicine': {'cost': road_cost, 'distance': distance, 'road': 'Open', 'air': 'Open', 'air_cost': air_cost}\n",
    "        }\n",
    "\n",
    "    num_particles = 50\n",
    "    num_dimensions = len(supply)\n",
    "    max_iterations = 100\n",
    "\n",
    "    def solve_button_clicked(button):\n",
    "        # Solve the PSO problem\n",
    "        best_particle = particle_swarm_optimization(num_particles, num_dimensions, max_iterations, supply, demand, costs)\n",
    "\n",
    "        # Print the best particle and its fitness\n",
    "        print(\"Best Particle:\")\n",
    "        print(best_particle)\n",
    "        fitness, routes = evaluate_particle(best_particle, supply, demand, costs)\n",
    "        print(\"Fitness:\")\n",
    "        print(fitness)\n",
    "        print(\"Routes and Costs:\")\n",
    "        for route in routes:\n",
    "            print(route)\n",
    "\n",
    "    # Supply sliders\n",
    "    supply_sliders = {}\n",
    "    for item in supply:\n",
    "        center = item['center']\n",
    "        supply_sliders[center] = {\n",
    "            'food': widgets.IntSlider(value=item['food'], min=0, max=1000000, description='Food'),\n",
    "            'water': widgets.IntSlider(value=item['water'], min=0, max=1000000, description='Water'),\n",
    "            'medicine': widgets.IntSlider(value=item['medicine'], min=0, max=1000000, description='Medicine')\n",
    "        }\n",
    "\n",
    "    # Demand sliders\n",
    "    demand_sliders = {}\n",
    "    for item in demand:\n",
    "        city = item['city']\n",
    "        demand_sliders[city] = {\n",
    "            'food': widgets.IntSlider(value=item['food'], min=0, max=1000000, description='Food'),\n",
    "            'water': widgets.IntSlider(value=item['water'], min=0, max=1000000, description='Water'),\n",
    "            'medicine': widgets.IntSlider(value=item['medicine'], min=0, max=1000000, description='Medicine')\n",
    "        }\n",
    "        \n",
    "    # Display the sliders\n",
    "    for center in supply_sliders:\n",
    "        print(f\"Supply Center: {center}\")\n",
    "        for item in supply_sliders[center]:\n",
    "            display(supply_sliders[center][item])\n",
    "        print()\n",
    "\n",
    "    for city in demand_sliders:\n",
    "        print(f\"Demand City: {city}\")\n",
    "        for item in demand_sliders[city]:\n",
    "            display(demand_sliders[city][item])\n",
    "        print()\n",
    "\n",
    "    # Initialize supply sliders\n",
    "    for center in supply_sliders:\n",
    "        for item in supply_sliders[center]:\n",
    "            supply_sliders[center][item].value = supply_sliders[center][item].value\n",
    "\n",
    "    # Initialize demand sliders\n",
    "    for city in demand_sliders:\n",
    "        for item in demand_sliders[city]:\n",
    "            demand_sliders[city][item].value = demand_sliders[city][item].value\n",
    "\n",
    "    # Solve button\n",
    "    solve_button = widgets.Button(description='Solve')\n",
    "    solve_button.on_click(solve_button_clicked)\n",
    "\n",
    "    # Display the solve button\n",
    "    display(solve_button)"
   ]
  },
  {
   "cell_type": "code",
   "execution_count": 9,
   "id": "e1ba8327",
   "metadata": {
    "scrolled": false
   },
   "outputs": [
    {
     "name": "stdout",
     "output_type": "stream",
     "text": [
      "transportinfo.csv read successfully. The first 5 rows are as follows:\n",
      "\n",
      "     Source Destination  Distance Transport Road  Road Cost Transport Air  \\\n",
      "0  Istanbul       Adana       892           Open          1          Open   \n",
      "1  Istanbul    Adıyaman       939           Open          1          Open   \n",
      "2  Istanbul  Diyarbakır      1273         Closed          1          Open   \n",
      "3  Istanbul   Gaziantep      1220           Open          1          Open   \n",
      "4  Istanbul       Hatay      1210         Closed          1          Open   \n",
      "\n",
      "   Air Cost  \n",
      "0         3  \n",
      "1         3  \n",
      "2         3  \n",
      "3         3  \n",
      "4         3  \n",
      "petrolinformation.csv read successfully. The first 5 rows are as follows:\n",
      "\n",
      "     Center  CurrentPetrol(L)  ConsumptionRate(L/KM)\n",
      "0  Istanbul           5000000                      1\n",
      "1    Ankara           2000000                      1\n",
      "2    Samsun           1000000                      1\n",
      "3   Antalya           1500000                      1\n",
      "4     İzmir           2500000                      1\n",
      "distributioncenter.csv read successfully. The first 5 rows are as follows:\n",
      "\n",
      "     Center  Population  SupplyFood  SupplyWater  SupplyMedicine\n",
      "0  Istanbul    15907951     3981988      3185590         2389193\n",
      "1    Ankara     5782285     1445571      1156457          867343\n",
      "2    Samsun     1368488      342122       273698          205273\n",
      "3   Antalya     2688004      672001       537601          403201\n",
      "4     İzmir     4462056     1115514       892411          669308\n",
      "effectedcities.csv read successfully. The first 5 rows are as follows:\n",
      "\n",
      "         City  Population DamageLevel  DemandFood  DemandWater  DemandMedicine\n",
      "0       Adana     2274106        High      547023       436819          328114\n",
      "1    Adıyaman      635169    Moderate      152441       121952           91463\n",
      "2  Diyarbakır     1804880        High      433174       346539          259904\n",
      "3   Gaziantep     2154051    Moderate      516972       413578          310183\n",
      "4       Hatay     1686043         Low      337209       269767          202325\n",
      "Supply Center: Istanbul\n"
     ]
    },
    {
     "data": {
      "application/vnd.jupyter.widget-view+json": {
       "model_id": "7b214b48ae6a46bc8c8c48a36f96dd4e",
       "version_major": 2,
       "version_minor": 0
      },
      "text/plain": [
       "IntSlider(value=1000000, description='Food', max=1000000)"
      ]
     },
     "metadata": {},
     "output_type": "display_data"
    },
    {
     "data": {
      "application/vnd.jupyter.widget-view+json": {
       "model_id": "04168f4bbcf94741904e166c7c7a8ef2",
       "version_major": 2,
       "version_minor": 0
      },
      "text/plain": [
       "IntSlider(value=1000000, description='Water', max=1000000)"
      ]
     },
     "metadata": {},
     "output_type": "display_data"
    },
    {
     "data": {
      "application/vnd.jupyter.widget-view+json": {
       "model_id": "fa3ff274d3f14de3aacb6d53cd492cc2",
       "version_major": 2,
       "version_minor": 0
      },
      "text/plain": [
       "IntSlider(value=1000000, description='Medicine', max=1000000)"
      ]
     },
     "metadata": {},
     "output_type": "display_data"
    },
    {
     "name": "stdout",
     "output_type": "stream",
     "text": [
      "\n",
      "Supply Center: Ankara\n"
     ]
    },
    {
     "data": {
      "application/vnd.jupyter.widget-view+json": {
       "model_id": "c854043350134a6b889e8fe2f8cc095c",
       "version_major": 2,
       "version_minor": 0
      },
      "text/plain": [
       "IntSlider(value=1000000, description='Food', max=1000000)"
      ]
     },
     "metadata": {},
     "output_type": "display_data"
    },
    {
     "data": {
      "application/vnd.jupyter.widget-view+json": {
       "model_id": "52a0aab83d2b45dcb0c1f6a019fae405",
       "version_major": 2,
       "version_minor": 0
      },
      "text/plain": [
       "IntSlider(value=1000000, description='Water', max=1000000)"
      ]
     },
     "metadata": {},
     "output_type": "display_data"
    },
    {
     "data": {
      "application/vnd.jupyter.widget-view+json": {
       "model_id": "529466eecfd949d6bda02b359ee11957",
       "version_major": 2,
       "version_minor": 0
      },
      "text/plain": [
       "IntSlider(value=867343, description='Medicine', max=1000000)"
      ]
     },
     "metadata": {},
     "output_type": "display_data"
    },
    {
     "name": "stdout",
     "output_type": "stream",
     "text": [
      "\n",
      "Supply Center: Samsun\n"
     ]
    },
    {
     "data": {
      "application/vnd.jupyter.widget-view+json": {
       "model_id": "bd94e90eb2624e5f82149f6d47ba3b86",
       "version_major": 2,
       "version_minor": 0
      },
      "text/plain": [
       "IntSlider(value=342122, description='Food', max=1000000)"
      ]
     },
     "metadata": {},
     "output_type": "display_data"
    },
    {
     "data": {
      "application/vnd.jupyter.widget-view+json": {
       "model_id": "5b8b6c283eda4f6181353f74d616a4cf",
       "version_major": 2,
       "version_minor": 0
      },
      "text/plain": [
       "IntSlider(value=273698, description='Water', max=1000000)"
      ]
     },
     "metadata": {},
     "output_type": "display_data"
    },
    {
     "data": {
      "application/vnd.jupyter.widget-view+json": {
       "model_id": "a11c1b1a3cbf4d5d8c257f56da14d9a1",
       "version_major": 2,
       "version_minor": 0
      },
      "text/plain": [
       "IntSlider(value=205273, description='Medicine', max=1000000)"
      ]
     },
     "metadata": {},
     "output_type": "display_data"
    },
    {
     "name": "stdout",
     "output_type": "stream",
     "text": [
      "\n",
      "Supply Center: Antalya\n"
     ]
    },
    {
     "data": {
      "application/vnd.jupyter.widget-view+json": {
       "model_id": "ffc9a31ffa064a4a81a503bddaf3ebb2",
       "version_major": 2,
       "version_minor": 0
      },
      "text/plain": [
       "IntSlider(value=672001, description='Food', max=1000000)"
      ]
     },
     "metadata": {},
     "output_type": "display_data"
    },
    {
     "data": {
      "application/vnd.jupyter.widget-view+json": {
       "model_id": "0a172017c2da49f6b14be46da555c0cf",
       "version_major": 2,
       "version_minor": 0
      },
      "text/plain": [
       "IntSlider(value=537601, description='Water', max=1000000)"
      ]
     },
     "metadata": {},
     "output_type": "display_data"
    },
    {
     "data": {
      "application/vnd.jupyter.widget-view+json": {
       "model_id": "718c7eaa1ed84d2e86d030dd3994bea2",
       "version_major": 2,
       "version_minor": 0
      },
      "text/plain": [
       "IntSlider(value=403201, description='Medicine', max=1000000)"
      ]
     },
     "metadata": {},
     "output_type": "display_data"
    },
    {
     "name": "stdout",
     "output_type": "stream",
     "text": [
      "\n",
      "Supply Center: İzmir\n"
     ]
    },
    {
     "data": {
      "application/vnd.jupyter.widget-view+json": {
       "model_id": "a92881af5b01436d88a1d48dadcf1983",
       "version_major": 2,
       "version_minor": 0
      },
      "text/plain": [
       "IntSlider(value=1000000, description='Food', max=1000000)"
      ]
     },
     "metadata": {},
     "output_type": "display_data"
    },
    {
     "data": {
      "application/vnd.jupyter.widget-view+json": {
       "model_id": "09a1d6dc58024b4eb6a4798be14482c5",
       "version_major": 2,
       "version_minor": 0
      },
      "text/plain": [
       "IntSlider(value=892411, description='Water', max=1000000)"
      ]
     },
     "metadata": {},
     "output_type": "display_data"
    },
    {
     "data": {
      "application/vnd.jupyter.widget-view+json": {
       "model_id": "a75789916c72468685d0b73a67652ea1",
       "version_major": 2,
       "version_minor": 0
      },
      "text/plain": [
       "IntSlider(value=669308, description='Medicine', max=1000000)"
      ]
     },
     "metadata": {},
     "output_type": "display_data"
    },
    {
     "name": "stdout",
     "output_type": "stream",
     "text": [
      "\n",
      "Demand City: Adana\n"
     ]
    },
    {
     "data": {
      "application/vnd.jupyter.widget-view+json": {
       "model_id": "7796b2fc82814f11ab50432a7247ba2d",
       "version_major": 2,
       "version_minor": 0
      },
      "text/plain": [
       "IntSlider(value=547023, description='Food', max=1000000)"
      ]
     },
     "metadata": {},
     "output_type": "display_data"
    },
    {
     "data": {
      "application/vnd.jupyter.widget-view+json": {
       "model_id": "8d43fcdb2c63441d9ee176efa8af9064",
       "version_major": 2,
       "version_minor": 0
      },
      "text/plain": [
       "IntSlider(value=436819, description='Water', max=1000000)"
      ]
     },
     "metadata": {},
     "output_type": "display_data"
    },
    {
     "data": {
      "application/vnd.jupyter.widget-view+json": {
       "model_id": "014f4d43e8144987988a46aa64c59817",
       "version_major": 2,
       "version_minor": 0
      },
      "text/plain": [
       "IntSlider(value=328114, description='Medicine', max=1000000)"
      ]
     },
     "metadata": {},
     "output_type": "display_data"
    },
    {
     "name": "stdout",
     "output_type": "stream",
     "text": [
      "\n",
      "Demand City: Adıyaman\n"
     ]
    },
    {
     "data": {
      "application/vnd.jupyter.widget-view+json": {
       "model_id": "fd8c2f3eabd1476e98b325e4c610cacb",
       "version_major": 2,
       "version_minor": 0
      },
      "text/plain": [
       "IntSlider(value=152441, description='Food', max=1000000)"
      ]
     },
     "metadata": {},
     "output_type": "display_data"
    },
    {
     "data": {
      "application/vnd.jupyter.widget-view+json": {
       "model_id": "a4751072a4e24410925ea0a795ec9a28",
       "version_major": 2,
       "version_minor": 0
      },
      "text/plain": [
       "IntSlider(value=121952, description='Water', max=1000000)"
      ]
     },
     "metadata": {},
     "output_type": "display_data"
    },
    {
     "data": {
      "application/vnd.jupyter.widget-view+json": {
       "model_id": "9d7d243300bc4341b153558fad671d67",
       "version_major": 2,
       "version_minor": 0
      },
      "text/plain": [
       "IntSlider(value=91463, description='Medicine', max=1000000)"
      ]
     },
     "metadata": {},
     "output_type": "display_data"
    },
    {
     "name": "stdout",
     "output_type": "stream",
     "text": [
      "\n",
      "Demand City: Diyarbakır\n"
     ]
    },
    {
     "data": {
      "application/vnd.jupyter.widget-view+json": {
       "model_id": "26bb5dc62f0a45289b0ed5cc455de8ac",
       "version_major": 2,
       "version_minor": 0
      },
      "text/plain": [
       "IntSlider(value=433174, description='Food', max=1000000)"
      ]
     },
     "metadata": {},
     "output_type": "display_data"
    },
    {
     "data": {
      "application/vnd.jupyter.widget-view+json": {
       "model_id": "b2066b9a9fea4c04b070e62746518c17",
       "version_major": 2,
       "version_minor": 0
      },
      "text/plain": [
       "IntSlider(value=346539, description='Water', max=1000000)"
      ]
     },
     "metadata": {},
     "output_type": "display_data"
    },
    {
     "data": {
      "application/vnd.jupyter.widget-view+json": {
       "model_id": "09e1450d4c59471a855f8005cb61a549",
       "version_major": 2,
       "version_minor": 0
      },
      "text/plain": [
       "IntSlider(value=259904, description='Medicine', max=1000000)"
      ]
     },
     "metadata": {},
     "output_type": "display_data"
    },
    {
     "name": "stdout",
     "output_type": "stream",
     "text": [
      "\n",
      "Demand City: Gaziantep\n"
     ]
    },
    {
     "data": {
      "application/vnd.jupyter.widget-view+json": {
       "model_id": "d00ecd0fce5545318bc075fb6874796d",
       "version_major": 2,
       "version_minor": 0
      },
      "text/plain": [
       "IntSlider(value=516972, description='Food', max=1000000)"
      ]
     },
     "metadata": {},
     "output_type": "display_data"
    },
    {
     "data": {
      "application/vnd.jupyter.widget-view+json": {
       "model_id": "cd3418c9e17a4d5bbf322735ad592421",
       "version_major": 2,
       "version_minor": 0
      },
      "text/plain": [
       "IntSlider(value=413578, description='Water', max=1000000)"
      ]
     },
     "metadata": {},
     "output_type": "display_data"
    },
    {
     "data": {
      "application/vnd.jupyter.widget-view+json": {
       "model_id": "85a831f8b9584b5b844d1597ead5b056",
       "version_major": 2,
       "version_minor": 0
      },
      "text/plain": [
       "IntSlider(value=310183, description='Medicine', max=1000000)"
      ]
     },
     "metadata": {},
     "output_type": "display_data"
    },
    {
     "name": "stdout",
     "output_type": "stream",
     "text": [
      "\n",
      "Demand City: Hatay\n"
     ]
    },
    {
     "data": {
      "application/vnd.jupyter.widget-view+json": {
       "model_id": "0f53155f95bd459db88e3524ac0fb80d",
       "version_major": 2,
       "version_minor": 0
      },
      "text/plain": [
       "IntSlider(value=337209, description='Food', max=1000000)"
      ]
     },
     "metadata": {},
     "output_type": "display_data"
    },
    {
     "data": {
      "application/vnd.jupyter.widget-view+json": {
       "model_id": "7b641b2e0bc44689af6f995c068fe30a",
       "version_major": 2,
       "version_minor": 0
      },
      "text/plain": [
       "IntSlider(value=269767, description='Water', max=1000000)"
      ]
     },
     "metadata": {},
     "output_type": "display_data"
    },
    {
     "data": {
      "application/vnd.jupyter.widget-view+json": {
       "model_id": "c0d87450908c44e19694a61eeedf2730",
       "version_major": 2,
       "version_minor": 0
      },
      "text/plain": [
       "IntSlider(value=202325, description='Medicine', max=1000000)"
      ]
     },
     "metadata": {},
     "output_type": "display_data"
    },
    {
     "name": "stdout",
     "output_type": "stream",
     "text": [
      "\n",
      "Demand City: Kahramanmaraş\n"
     ]
    },
    {
     "data": {
      "application/vnd.jupyter.widget-view+json": {
       "model_id": "9a1140c8861f4dd882a61443d1b864d3",
       "version_major": 2,
       "version_minor": 0
      },
      "text/plain": [
       "IntSlider(value=235487, description='Food', max=1000000)"
      ]
     },
     "metadata": {},
     "output_type": "display_data"
    },
    {
     "data": {
      "application/vnd.jupyter.widget-view+json": {
       "model_id": "d3e88fbea498465f9393bb869766b675",
       "version_major": 2,
       "version_minor": 0
      },
      "text/plain": [
       "IntSlider(value=188390, description='Water', max=1000000)"
      ]
     },
     "metadata": {},
     "output_type": "display_data"
    },
    {
     "data": {
      "application/vnd.jupyter.widget-view+json": {
       "model_id": "0370e26c33294d2b8bdc114de0bb8fb8",
       "version_major": 2,
       "version_minor": 0
      },
      "text/plain": [
       "IntSlider(value=141293, description='Medicine', max=1000000)"
      ]
     },
     "metadata": {},
     "output_type": "display_data"
    },
    {
     "name": "stdout",
     "output_type": "stream",
     "text": [
      "\n",
      "Demand City: Kilis\n"
     ]
    },
    {
     "data": {
      "application/vnd.jupyter.widget-view+json": {
       "model_id": "54ccd64f5b2a4cfd8310e5db8b1efb57",
       "version_major": 2,
       "version_minor": 0
      },
      "text/plain": [
       "IntSlider(value=35501, description='Food', max=1000000)"
      ]
     },
     "metadata": {},
     "output_type": "display_data"
    },
    {
     "data": {
      "application/vnd.jupyter.widget-view+json": {
       "model_id": "238aef106af745788c015f67a4d911a1",
       "version_major": 2,
       "version_minor": 0
      },
      "text/plain": [
       "IntSlider(value=28401, description='Water', max=1000000)"
      ]
     },
     "metadata": {},
     "output_type": "display_data"
    },
    {
     "data": {
      "application/vnd.jupyter.widget-view+json": {
       "model_id": "0ccbd185d4b94938bf64342e0a2c87c6",
       "version_major": 2,
       "version_minor": 0
      },
      "text/plain": [
       "IntSlider(value=21300, description='Medicine', max=1000000)"
      ]
     },
     "metadata": {},
     "output_type": "display_data"
    },
    {
     "name": "stdout",
     "output_type": "stream",
     "text": [
      "\n",
      "Demand City: Malatya\n"
     ]
    },
    {
     "data": {
      "application/vnd.jupyter.widget-view+json": {
       "model_id": "3aa3674b6b14455b84be3db001d858af",
       "version_major": 2,
       "version_minor": 0
      },
      "text/plain": [
       "IntSlider(value=195020, description='Food', max=1000000)"
      ]
     },
     "metadata": {},
     "output_type": "display_data"
    },
    {
     "data": {
      "application/vnd.jupyter.widget-view+json": {
       "model_id": "26d797aee17d42baa4acdf4d49844ca0",
       "version_major": 2,
       "version_minor": 0
      },
      "text/plain": [
       "IntSlider(value=156016, description='Water', max=1000000)"
      ]
     },
     "metadata": {},
     "output_type": "display_data"
    },
    {
     "data": {
      "application/vnd.jupyter.widget-view+json": {
       "model_id": "052443d3e93049858faf827109b48d30",
       "version_major": 2,
       "version_minor": 0
      },
      "text/plain": [
       "IntSlider(value=117012, description='Medicine', max=1000000)"
      ]
     },
     "metadata": {},
     "output_type": "display_data"
    },
    {
     "name": "stdout",
     "output_type": "stream",
     "text": [
      "\n",
      "Demand City: Osmaniye\n"
     ]
    },
    {
     "data": {
      "application/vnd.jupyter.widget-view+json": {
       "model_id": "b1d9a1d9f00c4dccb7472f1162a000d6",
       "version_major": 2,
       "version_minor": 0
      },
      "text/plain": [
       "IntSlider(value=111881, description='Food', max=1000000)"
      ]
     },
     "metadata": {},
     "output_type": "display_data"
    },
    {
     "data": {
      "application/vnd.jupyter.widget-view+json": {
       "model_id": "f1531a7948d548c8b089f0dcef7d1f06",
       "version_major": 2,
       "version_minor": 0
      },
      "text/plain": [
       "IntSlider(value=89504, description='Water', max=1000000)"
      ]
     },
     "metadata": {},
     "output_type": "display_data"
    },
    {
     "data": {
      "application/vnd.jupyter.widget-view+json": {
       "model_id": "6542c076922f4cb9970ebef883c37387",
       "version_major": 2,
       "version_minor": 0
      },
      "text/plain": [
       "IntSlider(value=67128, description='Medicine', max=1000000)"
      ]
     },
     "metadata": {},
     "output_type": "display_data"
    },
    {
     "name": "stdout",
     "output_type": "stream",
     "text": [
      "\n",
      "Demand City: Şanlıurfa\n"
     ]
    },
    {
     "data": {
      "application/vnd.jupyter.widget-view+json": {
       "model_id": "fbc2cfd749114364b648d8136bd09714",
       "version_major": 2,
       "version_minor": 0
      },
      "text/plain": [
       "IntSlider(value=521226, description='Food', max=1000000)"
      ]
     },
     "metadata": {},
     "output_type": "display_data"
    },
    {
     "data": {
      "application/vnd.jupyter.widget-view+json": {
       "model_id": "67f094e1d22d44fcaea6cb521c2b5a0f",
       "version_major": 2,
       "version_minor": 0
      },
      "text/plain": [
       "IntSlider(value=416981, description='Water', max=1000000)"
      ]
     },
     "metadata": {},
     "output_type": "display_data"
    },
    {
     "data": {
      "application/vnd.jupyter.widget-view+json": {
       "model_id": "665a7faaae2747f1b962a836a63636d4",
       "version_major": 2,
       "version_minor": 0
      },
      "text/plain": [
       "IntSlider(value=312736, description='Medicine', max=1000000)"
      ]
     },
     "metadata": {},
     "output_type": "display_data"
    },
    {
     "name": "stdout",
     "output_type": "stream",
     "text": [
      "\n",
      "Demand City: Elazığ\n"
     ]
    },
    {
     "data": {
      "application/vnd.jupyter.widget-view+json": {
       "model_id": "d80526715ebf48c6872a3a29a31e8f0c",
       "version_major": 2,
       "version_minor": 0
      },
      "text/plain": [
       "IntSlider(value=142953, description='Food', max=1000000)"
      ]
     },
     "metadata": {},
     "output_type": "display_data"
    },
    {
     "data": {
      "application/vnd.jupyter.widget-view+json": {
       "model_id": "c15aa70c55394f89927f90847ba31a4e",
       "version_major": 2,
       "version_minor": 0
      },
      "text/plain": [
       "IntSlider(value=114362, description='Water', max=1000000)"
      ]
     },
     "metadata": {},
     "output_type": "display_data"
    },
    {
     "data": {
      "application/vnd.jupyter.widget-view+json": {
       "model_id": "f134231fd1994a24b1a210b68f2d4ea0",
       "version_major": 2,
       "version_minor": 0
      },
      "text/plain": [
       "IntSlider(value=85771, description='Medicine', max=1000000)"
      ]
     },
     "metadata": {},
     "output_type": "display_data"
    },
    {
     "name": "stdout",
     "output_type": "stream",
     "text": [
      "\n"
     ]
    },
    {
     "data": {
      "application/vnd.jupyter.widget-view+json": {
       "model_id": "f50afd45ec0348869d9d1603082186fc",
       "version_major": 2,
       "version_minor": 0
      },
      "text/plain": [
       "Button(description='Solve', style=ButtonStyle())"
      ]
     },
     "metadata": {},
     "output_type": "display_data"
    },
    {
     "name": "stdout",
     "output_type": "stream",
     "text": [
      "Welcome to the CBC MILP Solver \n",
      "Version: 2.10.3 \n",
      "Build Date: Dec 15 2019 \n",
      "\n",
      "command line - /Library/Frameworks/Python.framework/Versions/3.10/lib/python3.10/site-packages/pulp/solverdir/cbc/osx/64/cbc /var/folders/jr/hc_sx4xx7xs0hgcg4p10r67w0000gn/T/5102ba99064c4a89966d5b75758d1b14-pulp.mps timeMode elapsed branch printingOptions all solution /var/folders/jr/hc_sx4xx7xs0hgcg4p10r67w0000gn/T/5102ba99064c4a89966d5b75758d1b14-pulp.sol (default strategy 1)\n",
      "At line 2 NAME          MODEL\n",
      "At line 3 ROWS\n",
      "At line 251 COLUMNS\n",
      "At line 1407 RHS\n",
      "At line 1654 BOUNDS\n",
      "At line 1820 ENDATA\n",
      "Problem MODEL has 246 rows, 165 columns and 660 elements\n",
      "Coin0008I MODEL read with 0 errors\n",
      "Option for timeMode changed from cpu to elapsed\n",
      "Continuous objective value is 3.09937e+07 - 0.00 seconds\n",
      "Cgl0004I processed model has 45 rows, 165 columns (165 integer (0 of which binary)) and 297 elements\n",
      "Cutoff increment increased from 1e-05 to 3.9999\n",
      "Cbc0012I Integer solution of 30993700 found by DiveCoefficient after 0 iterations and 0 nodes (0.02 seconds)\n",
      "Cbc0001I Search completed - best objective 30993700, took 0 iterations and 0 nodes (0.02 seconds)\n",
      "Cbc0035I Maximum depth 0, 0 variables fixed on reduced cost\n",
      "Cuts at root node changed objective from 3.09937e+07 to 3.09937e+07\n",
      "Probing was tried 0 times and created 0 cuts of which 0 were active after adding rounds of cuts (0.000 seconds)\n",
      "Gomory was tried 0 times and created 0 cuts of which 0 were active after adding rounds of cuts (0.000 seconds)\n",
      "Knapsack was tried 0 times and created 0 cuts of which 0 were active after adding rounds of cuts (0.000 seconds)\n",
      "Clique was tried 0 times and created 0 cuts of which 0 were active after adding rounds of cuts (0.000 seconds)\n",
      "MixedIntegerRounding2 was tried 0 times and created 0 cuts of which 0 were active after adding rounds of cuts (0.000 seconds)\n",
      "FlowCover was tried 0 times and created 0 cuts of which 0 were active after adding rounds of cuts (0.000 seconds)\n",
      "TwoMirCuts was tried 0 times and created 0 cuts of which 0 were active after adding rounds of cuts (0.000 seconds)\n",
      "ZeroHalf was tried 0 times and created 0 cuts of which 0 were active after adding rounds of cuts (0.000 seconds)\n",
      "\n",
      "Result - Optimal solution found\n",
      "\n",
      "Objective value:                30993700.00000000\n",
      "Enumerated nodes:               0\n",
      "Total iterations:               0\n",
      "Time (CPU seconds):             0.01\n",
      "Time (Wallclock seconds):       0.02\n",
      "\n",
      "Option for printingOptions changed from normal to all\n",
      "Total time (CPU seconds):       0.01   (Wallclock seconds):       0.02\n",
      "\n",
      "Status: Optimal\n",
      "Total Cost of Transport = 30993700.0\n",
      "Route_('Ankara',_'Adana',_'medicine') = 328114.0\n",
      "Route_('Ankara',_'Adana',_'water') = 436819.0\n",
      "Route_('Ankara',_'Adıyaman',_'food') = 152441.0\n",
      "Route_('Ankara',_'Diyarbakır',_'food') = 433174.0\n",
      "Route_('Ankara',_'Gaziantep',_'water') = 413578.0\n",
      "Route_('Ankara',_'Hatay',_'food') = 337209.0\n",
      "Route_('Ankara',_'Hatay',_'medicine') = 202325.0\n",
      "Route_('Ankara',_'Kahramanmaraş',_'water') = 188390.0\n",
      "Route_('Ankara',_'Kilis',_'water') = 28401.0\n",
      "Route_('Ankara',_'Şanlıurfa',_'food') = 521226.0\n",
      "Route_('Antalya',_'Adana',_'food') = 547023.0\n",
      "Route_('Antalya',_'Adıyaman',_'water') = 10189.0\n",
      "Route_('Antalya',_'Elazığ',_'food') = 124978.0\n",
      "Route_('Antalya',_'Hatay',_'water') = 110431.0\n",
      "Route_('Antalya',_'Şanlıurfa',_'water') = 416981.0\n",
      "Route_('Istanbul',_'Adıyaman',_'medicine') = 91463.0\n",
      "Route_('Istanbul',_'Diyarbakır',_'medicine') = 259904.0\n",
      "Route_('Istanbul',_'Diyarbakır',_'water') = 346539.0\n",
      "Route_('Istanbul',_'Elazığ',_'food') = 17975.0\n",
      "Route_('Istanbul',_'Kahramanmaraş',_'food') = 235487.0\n",
      "Route_('Istanbul',_'Kilis',_'food') = 35501.0\n",
      "Route_('Istanbul',_'Malatya',_'water') = 156016.0\n",
      "Route_('Istanbul',_'Osmaniye',_'food') = 111881.0\n",
      "Route_('Istanbul',_'Osmaniye',_'medicine') = 67128.0\n",
      "Route_('Istanbul',_'Şanlıurfa',_'medicine') = 312736.0\n",
      "Route_('Samsun',_'Elazığ',_'water') = 114362.0\n",
      "Route_('Samsun',_'Hatay',_'water') = 159336.0\n",
      "Route_('Samsun',_'Kilis',_'medicine') = 21300.0\n",
      "Route_('Samsun',_'Malatya',_'food') = 195020.0\n",
      "Route_('Samsun',_'Malatya',_'medicine') = 117012.0\n",
      "Route_('İzmir',_'Adıyaman',_'water') = 111763.0\n",
      "Route_('İzmir',_'Elazığ',_'medicine') = 85771.0\n",
      "Route_('İzmir',_'Gaziantep',_'food') = 516972.0\n",
      "Route_('İzmir',_'Gaziantep',_'medicine') = 310183.0\n",
      "Route_('İzmir',_'Kahramanmaraş',_'medicine') = 141293.0\n",
      "Route_('İzmir',_'Osmaniye',_'water') = 89504.0\n"
     ]
    }
   ],
   "source": [
    "#Mixed-Integer Linear Programming\n",
    "\n",
    "import pandas as pd\n",
    "from pulp import *\n",
    "import ipywidgets as widgets\n",
    "from IPython.display import display\n",
    "\n",
    "# Define a function to read the data from CSV files\n",
    "def read_csv(file_name):\n",
    "    try:\n",
    "        # Read the data, assuming that the values are separated by a comma\n",
    "        data = pd.read_csv(file_name, sep=None, thousands=',', quotechar='\"', engine='python')\n",
    "        print(f\"{file_name} read successfully. The first 5 rows are as follows:\\n\")\n",
    "        print(data.head())\n",
    "        \n",
    "    except FileNotFoundError:\n",
    "        # Handle the case where the file doesn't exist\n",
    "        print(f\"{file_name} not found.\")\n",
    "        return None\n",
    "    \n",
    "    except pd.errors.ParserError:\n",
    "        # Handle other potential errors\n",
    "        print(f\"An error occurred while reading {file_name} file.\")\n",
    "        return None\n",
    "    \n",
    "    # Check for missing values in the data\n",
    "    if data.isnull().values.any():\n",
    "        print(f\"{file_name} has missing values.\")\n",
    "    return data\n",
    "\n",
    "# Read the data files\n",
    "transport_info = read_csv('transportinfo.csv')\n",
    "petrol_info = read_csv('petrolinformation.csv')\n",
    "distribution_centers = read_csv('distributioncenter.csv')\n",
    "affected_cities = read_csv('effectedcities.csv')\n",
    "\n",
    "# Check if any of the dataframes is None before proceeding\n",
    "if any(df is None for df in [transport_info, petrol_info, distribution_centers, affected_cities]):\n",
    "    print(\"All files could not be read successfully. Please check your files.\")\n",
    "else:\n",
    "    # Create the 'prob' variable to contain the problem data\n",
    "    prob = LpProblem(\"Earthquake_Relief_Supply_Distribution\", LpMinimize)\n",
    "    \n",
    "    # Build dictionaries from dataframes to represent supply, demand, petrol supply, consumption rate and costs\n",
    "    # These dictionaries will be used to build constraints for the linear programming problem\n",
    "    supply = {row['Center']: {'food': row['SupplyFood'],\n",
    "                              'water': row['SupplyWater'],\n",
    "                              'medicine': row['SupplyMedicine']} \n",
    "              for _, row in distribution_centers.iterrows()}\n",
    "\n",
    "    demand = {row['City']: {'food': row['DemandFood'],\n",
    "                            'water': row['DemandWater'],\n",
    "                            'medicine': row['DemandMedicine']} \n",
    "              for _, row in affected_cities.iterrows()}\n",
    "\n",
    "    petrol_supply = {row['Center']: row['CurrentPetrol(L)'] \n",
    "                     for _, row in petrol_info.iterrows()}\n",
    "\n",
    "    consumption_rate = {row['Center']: row['ConsumptionRate(L/KM)'] \n",
    "                        for _, row in petrol_info.iterrows()}\n",
    "\n",
    "    costs = {(row['Source'], row['Destination']): {'cost': row['Road Cost'],\n",
    "                                                   'distance': row['Distance'],\n",
    "                                                   'road': row['Transport Road'],\n",
    "                                                   'air': row['Transport Air'],\n",
    "                                                   'air_cost': row['Air Cost']}\n",
    "             for _, row in transport_info.iterrows()}\n",
    "\n",
    "    # Create the decision variables\n",
    "    vars = LpVariable.dicts(\"Route\", [(s, d, g) for s in supply for d in demand for g in ['food', 'water', 'medicine']],\n",
    "                            lowBound=0, cat='Integer')\n",
    "\n",
    "    # Define the objective function, which is to minimize the total transport cost\n",
    "    prob += lpSum([costs[(s, d)]['cost'] * vars[(s, d, g)] +\n",
    "                   costs[(s, d)]['air_cost'] * vars[(s, d, g)]\n",
    "                   for s in supply for d in demand for g in ['food', 'water', 'medicine']]), \"Total Cost of Transport\"\n",
    "\n",
    "    # Add constraints to the problem\n",
    "    # The total supply from a center can't exceed its current supply, and the total demand for a city has to be satisfied.\n",
    "    for s in supply:\n",
    "        for g in ['food', 'water', 'medicine']:\n",
    "            prob += lpSum(vars[(s, d, g)] for d in demand) <= supply[s][g], f\"Sum of {g} from Center {s}\"\n",
    "\n",
    "    for d in demand:\n",
    "        for g in ['food', 'water', 'medicine']:\n",
    "            prob += lpSum(vars[(s, d, g)] for s in supply) >= demand[d][g], f\"Sum of {g} to City {d}\"\n",
    "    \n",
    "    # The supply from a center to a city can't exceed the center's supply,\n",
    "    # and the total supply to a city has to equal the city's demand.\n",
    "    for p in petrol_supply:\n",
    "        for d in demand:\n",
    "            for g in ['food', 'water', 'medicine']:\n",
    "                prob += vars[(p, d, g)] <= supply[p][g], f\"Supply limit of {g} from Center {p} to City {d}\"\n",
    "\n",
    "    for d in demand:\n",
    "        for g in ['food', 'water', 'medicine']:\n",
    "            prob += lpSum(vars[(s, d, g)] for s in supply) == demand[d][g], f\"Demand satisfaction of {g} in City {d}\"\n",
    "    \n",
    "    # Define a button click event handler to solve the LP problem\n",
    "    def solve_button_clicked(button):\n",
    "        # Solve the LP problem\n",
    "        prob.solve()\n",
    "\n",
    "        # Print the status of the solved LP\n",
    "        print(\"Status:\", LpStatus[prob.status])\n",
    "\n",
    "        # Print the total cost of transport\n",
    "        print(\"Total Cost of Transport =\", value(prob.objective))\n",
    "\n",
    "        # Print the optimal solution\n",
    "        for v in prob.variables():\n",
    "            if v.varValue is not None and v.varValue > 0:\n",
    "                print(v.name, \"=\", v.varValue)\n",
    "\n",
    "    # Create sliders for supply and demand, allowing user interaction to adjust values\n",
    "    supply_sliders = {center: {item: widgets.IntSlider(value=supply[center][item], min=0, max=1000000, description=item.capitalize()) \n",
    "                               for item in supply[center]} \n",
    "                      for center in supply}\n",
    "\n",
    "    demand_sliders = {city: {item: widgets.IntSlider(value=demand[city][item], min=0, max=1000000, description=item.capitalize()) \n",
    "                             for item in demand[city]} \n",
    "                      for city in demand}\n",
    "\n",
    "    # Display the sliders\n",
    "    for center in supply_sliders:\n",
    "        print(f\"Supply Center: {center}\")\n",
    "        for item in supply_sliders[center]:\n",
    "            display(supply_sliders[center][item])\n",
    "        print()\n",
    "\n",
    "    for city in demand_sliders:\n",
    "        print(f\"Demand City: {city}\")\n",
    "        for item in demand_sliders[city]:\n",
    "            display(demand_sliders[city][item])\n",
    "        print()\n",
    "\n",
    "    # Solve button\n",
    "    solve_button = widgets.Button(description='Solve')\n",
    "    solve_button.on_click(solve_button_clicked)\n",
    "\n",
    "    # Display the solve button\n",
    "    display(solve_button)"
   ]
  },
  {
   "cell_type": "code",
   "execution_count": 1,
   "id": "c9d4364e",
   "metadata": {},
   "outputs": [
    {
     "name": "stderr",
     "output_type": "stream",
     "text": [
      "/var/folders/jr/hc_sx4xx7xs0hgcg4p10r67w0000gn/T/ipykernel_1686/4186614636.py:64: UserWarning: color argument of Icon should be one of: {'purple', 'pink', 'darkpurple', 'lightred', 'cadetblue', 'red', 'white', 'orange', 'blue', 'green', 'darkred', 'darkgreen', 'lightgray', 'darkblue', 'beige', 'gray', 'lightgreen', 'black', 'lightblue'}.\n",
      "  icon=folium.Icon(color='yellow', icon='info-sign'),\n",
      "/var/folders/jr/hc_sx4xx7xs0hgcg4p10r67w0000gn/T/ipykernel_1686/4186614636.py:70: UserWarning: color argument of Icon should be one of: {'purple', 'pink', 'darkpurple', 'lightred', 'cadetblue', 'red', 'white', 'orange', 'blue', 'green', 'darkred', 'darkgreen', 'lightgray', 'darkblue', 'beige', 'gray', 'lightgreen', 'black', 'lightblue'}.\n",
      "  icon=folium.Icon(color='yellow', icon='info-sign'),\n",
      "/var/folders/jr/hc_sx4xx7xs0hgcg4p10r67w0000gn/T/ipykernel_1686/4186614636.py:76: UserWarning: color argument of Icon should be one of: {'purple', 'pink', 'darkpurple', 'lightred', 'cadetblue', 'red', 'white', 'orange', 'blue', 'green', 'darkred', 'darkgreen', 'lightgray', 'darkblue', 'beige', 'gray', 'lightgreen', 'black', 'lightblue'}.\n",
      "  icon=folium.Icon(color='yellow', icon='info-sign'),\n",
      "/var/folders/jr/hc_sx4xx7xs0hgcg4p10r67w0000gn/T/ipykernel_1686/4186614636.py:82: UserWarning: color argument of Icon should be one of: {'purple', 'pink', 'darkpurple', 'lightred', 'cadetblue', 'red', 'white', 'orange', 'blue', 'green', 'darkred', 'darkgreen', 'lightgray', 'darkblue', 'beige', 'gray', 'lightgreen', 'black', 'lightblue'}.\n",
      "  icon=folium.Icon(color='yellow', icon='info-sign'),\n",
      "/var/folders/jr/hc_sx4xx7xs0hgcg4p10r67w0000gn/T/ipykernel_1686/4186614636.py:88: UserWarning: color argument of Icon should be one of: {'purple', 'pink', 'darkpurple', 'lightred', 'cadetblue', 'red', 'white', 'orange', 'blue', 'green', 'darkred', 'darkgreen', 'lightgray', 'darkblue', 'beige', 'gray', 'lightgreen', 'black', 'lightblue'}.\n",
      "  icon=folium.Icon(color='yellow', icon='info-sign'),\n",
      "/var/folders/jr/hc_sx4xx7xs0hgcg4p10r67w0000gn/T/ipykernel_1686/4186614636.py:94: UserWarning: color argument of Icon should be one of: {'purple', 'pink', 'darkpurple', 'lightred', 'cadetblue', 'red', 'white', 'orange', 'blue', 'green', 'darkred', 'darkgreen', 'lightgray', 'darkblue', 'beige', 'gray', 'lightgreen', 'black', 'lightblue'}.\n",
      "  icon=folium.Icon(color='yellow', icon='info-sign'),\n",
      "/var/folders/jr/hc_sx4xx7xs0hgcg4p10r67w0000gn/T/ipykernel_1686/4186614636.py:100: UserWarning: color argument of Icon should be one of: {'purple', 'pink', 'darkpurple', 'lightred', 'cadetblue', 'red', 'white', 'orange', 'blue', 'green', 'darkred', 'darkgreen', 'lightgray', 'darkblue', 'beige', 'gray', 'lightgreen', 'black', 'lightblue'}.\n",
      "  icon=folium.Icon(color='yellow', icon='info-sign'),\n",
      "/var/folders/jr/hc_sx4xx7xs0hgcg4p10r67w0000gn/T/ipykernel_1686/4186614636.py:106: UserWarning: color argument of Icon should be one of: {'purple', 'pink', 'darkpurple', 'lightred', 'cadetblue', 'red', 'white', 'orange', 'blue', 'green', 'darkred', 'darkgreen', 'lightgray', 'darkblue', 'beige', 'gray', 'lightgreen', 'black', 'lightblue'}.\n",
      "  icon=folium.Icon(color='yellow', icon='info-sign'),\n",
      "/var/folders/jr/hc_sx4xx7xs0hgcg4p10r67w0000gn/T/ipykernel_1686/4186614636.py:112: UserWarning: color argument of Icon should be one of: {'purple', 'pink', 'darkpurple', 'lightred', 'cadetblue', 'red', 'white', 'orange', 'blue', 'green', 'darkred', 'darkgreen', 'lightgray', 'darkblue', 'beige', 'gray', 'lightgreen', 'black', 'lightblue'}.\n",
      "  icon=folium.Icon(color='yellow', icon='info-sign'),\n",
      "/var/folders/jr/hc_sx4xx7xs0hgcg4p10r67w0000gn/T/ipykernel_1686/4186614636.py:118: UserWarning: color argument of Icon should be one of: {'purple', 'pink', 'darkpurple', 'lightred', 'cadetblue', 'red', 'white', 'orange', 'blue', 'green', 'darkred', 'darkgreen', 'lightgray', 'darkblue', 'beige', 'gray', 'lightgreen', 'black', 'lightblue'}.\n",
      "  icon=folium.Icon(color='yellow', icon='info-sign'),\n",
      "/var/folders/jr/hc_sx4xx7xs0hgcg4p10r67w0000gn/T/ipykernel_1686/4186614636.py:124: UserWarning: color argument of Icon should be one of: {'purple', 'pink', 'darkpurple', 'lightred', 'cadetblue', 'red', 'white', 'orange', 'blue', 'green', 'darkred', 'darkgreen', 'lightgray', 'darkblue', 'beige', 'gray', 'lightgreen', 'black', 'lightblue'}.\n",
      "  icon=folium.Icon(color='yellow', icon='info-sign'),\n"
     ]
    },
    {
     "data": {
      "text/html": [
       "<div style=\"width:100%;\"><div style=\"position:relative;width:100%;height:0;padding-bottom:60%;\"><span style=\"color:#565656\">Make this Notebook Trusted to load map: File -> Trust Notebook</span><iframe srcdoc=\"&lt;!DOCTYPE html&gt;\n",
       "&lt;html&gt;\n",
       "&lt;head&gt;\n",
       "    \n",
       "    &lt;meta http-equiv=&quot;content-type&quot; content=&quot;text/html; charset=UTF-8&quot; /&gt;\n",
       "    \n",
       "        &lt;script&gt;\n",
       "            L_NO_TOUCH = false;\n",
       "            L_DISABLE_3D = false;\n",
       "        &lt;/script&gt;\n",
       "    \n",
       "    &lt;style&gt;html, body {width: 100%;height: 100%;margin: 0;padding: 0;}&lt;/style&gt;\n",
       "    &lt;style&gt;#map {position:absolute;top:0;bottom:0;right:0;left:0;}&lt;/style&gt;\n",
       "    &lt;script src=&quot;https://cdn.jsdelivr.net/npm/leaflet@1.9.3/dist/leaflet.js&quot;&gt;&lt;/script&gt;\n",
       "    &lt;script src=&quot;https://code.jquery.com/jquery-1.12.4.min.js&quot;&gt;&lt;/script&gt;\n",
       "    &lt;script src=&quot;https://cdn.jsdelivr.net/npm/bootstrap@5.2.2/dist/js/bootstrap.bundle.min.js&quot;&gt;&lt;/script&gt;\n",
       "    &lt;script src=&quot;https://cdnjs.cloudflare.com/ajax/libs/Leaflet.awesome-markers/2.0.2/leaflet.awesome-markers.js&quot;&gt;&lt;/script&gt;\n",
       "    &lt;link rel=&quot;stylesheet&quot; href=&quot;https://cdn.jsdelivr.net/npm/leaflet@1.9.3/dist/leaflet.css&quot;/&gt;\n",
       "    &lt;link rel=&quot;stylesheet&quot; href=&quot;https://cdn.jsdelivr.net/npm/bootstrap@5.2.2/dist/css/bootstrap.min.css&quot;/&gt;\n",
       "    &lt;link rel=&quot;stylesheet&quot; href=&quot;https://netdna.bootstrapcdn.com/bootstrap/3.0.0/css/bootstrap.min.css&quot;/&gt;\n",
       "    &lt;link rel=&quot;stylesheet&quot; href=&quot;https://cdn.jsdelivr.net/npm/@fortawesome/fontawesome-free@6.2.0/css/all.min.css&quot;/&gt;\n",
       "    &lt;link rel=&quot;stylesheet&quot; href=&quot;https://cdnjs.cloudflare.com/ajax/libs/Leaflet.awesome-markers/2.0.2/leaflet.awesome-markers.css&quot;/&gt;\n",
       "    &lt;link rel=&quot;stylesheet&quot; href=&quot;https://cdn.jsdelivr.net/gh/python-visualization/folium/folium/templates/leaflet.awesome.rotate.min.css&quot;/&gt;\n",
       "    \n",
       "            &lt;meta name=&quot;viewport&quot; content=&quot;width=device-width,\n",
       "                initial-scale=1.0, maximum-scale=1.0, user-scalable=no&quot; /&gt;\n",
       "            &lt;style&gt;\n",
       "                #map_3a312b2e456d57435ab73eed584a0c2e {\n",
       "                    position: relative;\n",
       "                    width: 100.0%;\n",
       "                    height: 100.0%;\n",
       "                    left: 0.0%;\n",
       "                    top: 0.0%;\n",
       "                }\n",
       "                .leaflet-container { font-size: 1rem; }\n",
       "            &lt;/style&gt;\n",
       "        \n",
       "&lt;/head&gt;\n",
       "&lt;body&gt;\n",
       "    \n",
       "    \n",
       "&lt;div style=&quot;position: fixed; \n",
       "            bottom: 40px; left: 40px; width: 120px; height: 140px; \n",
       "            border:2px solid grey; z-index:9999; font-size:14px;\n",
       "            background-color:white;\n",
       "            text-align: center;\n",
       "            &quot;&gt;\n",
       "    &lt;strong&gt;Colors&lt;/strong&gt;\n",
       "    &lt;hr style=&quot;border:1px solid grey;&quot;&gt;\n",
       "    &lt;div style=&quot;padding: -8px;&quot;&gt;\n",
       "        &lt;span style=&quot;color:green;&quot;&gt;MEDICINE&lt;/span&gt;\n",
       "    &lt;/div&gt;\n",
       "    &lt;div style=&quot;padding: -8px;&quot;&gt;\n",
       "        &lt;span style=&quot;color:blue;&quot;&gt;WATER&lt;/span&gt;\n",
       "    &lt;/div&gt;\n",
       "    &lt;div style=&quot;padding: -9px;&quot;&gt;\n",
       "        &lt;span style=&quot;color:yellow;&quot;&gt;FOOD&lt;/span&gt;\n",
       "    &lt;/div&gt;\n",
       "&lt;/div&gt;\n",
       "    \n",
       "            &lt;div class=&quot;folium-map&quot; id=&quot;map_3a312b2e456d57435ab73eed584a0c2e&quot; &gt;&lt;/div&gt;\n",
       "        \n",
       "&lt;/body&gt;\n",
       "&lt;script&gt;\n",
       "    \n",
       "    \n",
       "            var map_3a312b2e456d57435ab73eed584a0c2e = L.map(\n",
       "                &quot;map_3a312b2e456d57435ab73eed584a0c2e&quot;,\n",
       "                {\n",
       "                    center: [39.9255, 32.8662],\n",
       "                    crs: L.CRS.EPSG3857,\n",
       "                    zoom: 6,\n",
       "                    zoomControl: true,\n",
       "                    preferCanvas: false,\n",
       "                }\n",
       "            );\n",
       "\n",
       "            \n",
       "\n",
       "        \n",
       "    \n",
       "            var tile_layer_ba3ee689a93f4aab3ee6ea3a7784f76d = L.tileLayer(\n",
       "                &quot;https://{s}.tile.openstreetmap.org/{z}/{x}/{y}.png&quot;,\n",
       "                {&quot;attribution&quot;: &quot;Data by \\u0026copy; \\u003ca target=\\&quot;_blank\\&quot; href=\\&quot;http://openstreetmap.org\\&quot;\\u003eOpenStreetMap\\u003c/a\\u003e, under \\u003ca target=\\&quot;_blank\\&quot; href=\\&quot;http://www.openstreetmap.org/copyright\\&quot;\\u003eODbL\\u003c/a\\u003e.&quot;, &quot;detectRetina&quot;: false, &quot;maxNativeZoom&quot;: 18, &quot;maxZoom&quot;: 18, &quot;minZoom&quot;: 0, &quot;noWrap&quot;: false, &quot;opacity&quot;: 1, &quot;subdomains&quot;: &quot;abc&quot;, &quot;tms&quot;: false}\n",
       "            ).addTo(map_3a312b2e456d57435ab73eed584a0c2e);\n",
       "        \n",
       "    \n",
       "            var marker_f339ae58a120776c3650b974346d0bc1 = L.marker(\n",
       "                [41.00527, 28.97696],\n",
       "                {}\n",
       "            ).addTo(map_3a312b2e456d57435ab73eed584a0c2e);\n",
       "        \n",
       "    \n",
       "            var icon_b57b5b5d677a1a4440c4be047c1eb7a0 = L.AwesomeMarkers.icon(\n",
       "                {&quot;extraClasses&quot;: &quot;fa-rotate-0&quot;, &quot;icon&quot;: &quot;info-sign&quot;, &quot;iconColor&quot;: &quot;white&quot;, &quot;markerColor&quot;: &quot;red&quot;, &quot;prefix&quot;: &quot;glyphicon&quot;}\n",
       "            );\n",
       "            marker_f339ae58a120776c3650b974346d0bc1.setIcon(icon_b57b5b5d677a1a4440c4be047c1eb7a0);\n",
       "        \n",
       "    \n",
       "            marker_f339ae58a120776c3650b974346d0bc1.bindTooltip(\n",
       "                `&lt;div&gt;\n",
       "                     Istanbul\n",
       "                 &lt;/div&gt;`,\n",
       "                {&quot;sticky&quot;: true}\n",
       "            );\n",
       "        \n",
       "    \n",
       "            var marker_0e206d756fde72e545393dc224206f50 = L.marker(\n",
       "                [36.88414, 30.70563],\n",
       "                {}\n",
       "            ).addTo(map_3a312b2e456d57435ab73eed584a0c2e);\n",
       "        \n",
       "    \n",
       "            var icon_dedf3459e9cb116796351ca7b707423f = L.AwesomeMarkers.icon(\n",
       "                {&quot;extraClasses&quot;: &quot;fa-rotate-0&quot;, &quot;icon&quot;: &quot;info-sign&quot;, &quot;iconColor&quot;: &quot;white&quot;, &quot;markerColor&quot;: &quot;red&quot;, &quot;prefix&quot;: &quot;glyphicon&quot;}\n",
       "            );\n",
       "            marker_0e206d756fde72e545393dc224206f50.setIcon(icon_dedf3459e9cb116796351ca7b707423f);\n",
       "        \n",
       "    \n",
       "            marker_0e206d756fde72e545393dc224206f50.bindTooltip(\n",
       "                `&lt;div&gt;\n",
       "                     Antalya\n",
       "                 &lt;/div&gt;`,\n",
       "                {&quot;sticky&quot;: true}\n",
       "            );\n",
       "        \n",
       "    \n",
       "            var marker_75ea152b91c27d0d6a01671ac9cf372f = L.marker(\n",
       "                [38.41885, 27.12872],\n",
       "                {}\n",
       "            ).addTo(map_3a312b2e456d57435ab73eed584a0c2e);\n",
       "        \n",
       "    \n",
       "            var icon_271ca73ac3fe899922c8b0d0a100d7fa = L.AwesomeMarkers.icon(\n",
       "                {&quot;extraClasses&quot;: &quot;fa-rotate-0&quot;, &quot;icon&quot;: &quot;info-sign&quot;, &quot;iconColor&quot;: &quot;white&quot;, &quot;markerColor&quot;: &quot;red&quot;, &quot;prefix&quot;: &quot;glyphicon&quot;}\n",
       "            );\n",
       "            marker_75ea152b91c27d0d6a01671ac9cf372f.setIcon(icon_271ca73ac3fe899922c8b0d0a100d7fa);\n",
       "        \n",
       "    \n",
       "            marker_75ea152b91c27d0d6a01671ac9cf372f.bindTooltip(\n",
       "                `&lt;div&gt;\n",
       "                     Izmir\n",
       "                 &lt;/div&gt;`,\n",
       "                {&quot;sticky&quot;: true}\n",
       "            );\n",
       "        \n",
       "    \n",
       "            var marker_980e58b7a9f3750d467f1c735d00d540 = L.marker(\n",
       "                [41.292782, 36.33128],\n",
       "                {}\n",
       "            ).addTo(map_3a312b2e456d57435ab73eed584a0c2e);\n",
       "        \n",
       "    \n",
       "            var icon_7cb6cf61cdcb6e9ecc8fe144594e00f1 = L.AwesomeMarkers.icon(\n",
       "                {&quot;extraClasses&quot;: &quot;fa-rotate-0&quot;, &quot;icon&quot;: &quot;info-sign&quot;, &quot;iconColor&quot;: &quot;white&quot;, &quot;markerColor&quot;: &quot;red&quot;, &quot;prefix&quot;: &quot;glyphicon&quot;}\n",
       "            );\n",
       "            marker_980e58b7a9f3750d467f1c735d00d540.setIcon(icon_7cb6cf61cdcb6e9ecc8fe144594e00f1);\n",
       "        \n",
       "    \n",
       "            marker_980e58b7a9f3750d467f1c735d00d540.bindTooltip(\n",
       "                `&lt;div&gt;\n",
       "                     Samsun\n",
       "                 &lt;/div&gt;`,\n",
       "                {&quot;sticky&quot;: true}\n",
       "            );\n",
       "        \n",
       "    \n",
       "            var marker_d3d2dcf78ecc2ce6e3daf974408e3ea0 = L.marker(\n",
       "                [39.92077, 32.85411],\n",
       "                {}\n",
       "            ).addTo(map_3a312b2e456d57435ab73eed584a0c2e);\n",
       "        \n",
       "    \n",
       "            var icon_da60485def44050bd0ff42c6218161ab = L.AwesomeMarkers.icon(\n",
       "                {&quot;extraClasses&quot;: &quot;fa-rotate-0&quot;, &quot;icon&quot;: &quot;info-sign&quot;, &quot;iconColor&quot;: &quot;white&quot;, &quot;markerColor&quot;: &quot;red&quot;, &quot;prefix&quot;: &quot;glyphicon&quot;}\n",
       "            );\n",
       "            marker_d3d2dcf78ecc2ce6e3daf974408e3ea0.setIcon(icon_da60485def44050bd0ff42c6218161ab);\n",
       "        \n",
       "    \n",
       "            marker_d3d2dcf78ecc2ce6e3daf974408e3ea0.bindTooltip(\n",
       "                `&lt;div&gt;\n",
       "                     Ankara\n",
       "                 &lt;/div&gt;`,\n",
       "                {&quot;sticky&quot;: true}\n",
       "            );\n",
       "        \n",
       "    \n",
       "            var marker_14593900515041f609f73fa0077d024f = L.marker(\n",
       "                [37.585831, 36.937149],\n",
       "                {}\n",
       "            ).addTo(map_3a312b2e456d57435ab73eed584a0c2e);\n",
       "        \n",
       "    \n",
       "            var icon_1399afb4d166dadd9e702c0c792568b2 = L.AwesomeMarkers.icon(\n",
       "                {&quot;extraClasses&quot;: &quot;fa-rotate-0&quot;, &quot;icon&quot;: &quot;info-sign&quot;, &quot;iconColor&quot;: &quot;white&quot;, &quot;markerColor&quot;: &quot;yellow&quot;, &quot;prefix&quot;: &quot;glyphicon&quot;}\n",
       "            );\n",
       "            marker_14593900515041f609f73fa0077d024f.setIcon(icon_1399afb4d166dadd9e702c0c792568b2);\n",
       "        \n",
       "    \n",
       "            marker_14593900515041f609f73fa0077d024f.bindTooltip(\n",
       "                `&lt;div&gt;\n",
       "                     Kahramanmaras\n",
       "                 &lt;/div&gt;`,\n",
       "                {&quot;sticky&quot;: true}\n",
       "            );\n",
       "        \n",
       "    \n",
       "            var marker_90101158b1bbcece20cc45710160645c = L.marker(\n",
       "                [36.401849, 36.34981],\n",
       "                {}\n",
       "            ).addTo(map_3a312b2e456d57435ab73eed584a0c2e);\n",
       "        \n",
       "    \n",
       "            var icon_ae45b221d414b9bf6094d09c184a6079 = L.AwesomeMarkers.icon(\n",
       "                {&quot;extraClasses&quot;: &quot;fa-rotate-0&quot;, &quot;icon&quot;: &quot;info-sign&quot;, &quot;iconColor&quot;: &quot;white&quot;, &quot;markerColor&quot;: &quot;yellow&quot;, &quot;prefix&quot;: &quot;glyphicon&quot;}\n",
       "            );\n",
       "            marker_90101158b1bbcece20cc45710160645c.setIcon(icon_ae45b221d414b9bf6094d09c184a6079);\n",
       "        \n",
       "    \n",
       "            marker_90101158b1bbcece20cc45710160645c.bindTooltip(\n",
       "                `&lt;div&gt;\n",
       "                     Hatay\n",
       "                 &lt;/div&gt;`,\n",
       "                {&quot;sticky&quot;: true}\n",
       "            );\n",
       "        \n",
       "    \n",
       "            var marker_2e5ffcf6f930278a2d1b3225ce42f5be = L.marker(\n",
       "                [37.764751, 38.278561],\n",
       "                {}\n",
       "            ).addTo(map_3a312b2e456d57435ab73eed584a0c2e);\n",
       "        \n",
       "    \n",
       "            var icon_fbf615b6e4f145bff9b7b524d1d47654 = L.AwesomeMarkers.icon(\n",
       "                {&quot;extraClasses&quot;: &quot;fa-rotate-0&quot;, &quot;icon&quot;: &quot;info-sign&quot;, &quot;iconColor&quot;: &quot;white&quot;, &quot;markerColor&quot;: &quot;yellow&quot;, &quot;prefix&quot;: &quot;glyphicon&quot;}\n",
       "            );\n",
       "            marker_2e5ffcf6f930278a2d1b3225ce42f5be.setIcon(icon_fbf615b6e4f145bff9b7b524d1d47654);\n",
       "        \n",
       "    \n",
       "            marker_2e5ffcf6f930278a2d1b3225ce42f5be.bindTooltip(\n",
       "                `&lt;div&gt;\n",
       "                     Adıyaman\n",
       "                 &lt;/div&gt;`,\n",
       "                {&quot;sticky&quot;: true}\n",
       "            );\n",
       "        \n",
       "    \n",
       "            var marker_56605bfc1672e414e5700e0f16b5e660 = L.marker(\n",
       "                [37.213026, 36.176261],\n",
       "                {}\n",
       "            ).addTo(map_3a312b2e456d57435ab73eed584a0c2e);\n",
       "        \n",
       "    \n",
       "            var icon_1461511841d5551119153279e838ca83 = L.AwesomeMarkers.icon(\n",
       "                {&quot;extraClasses&quot;: &quot;fa-rotate-0&quot;, &quot;icon&quot;: &quot;info-sign&quot;, &quot;iconColor&quot;: &quot;white&quot;, &quot;markerColor&quot;: &quot;yellow&quot;, &quot;prefix&quot;: &quot;glyphicon&quot;}\n",
       "            );\n",
       "            marker_56605bfc1672e414e5700e0f16b5e660.setIcon(icon_1461511841d5551119153279e838ca83);\n",
       "        \n",
       "    \n",
       "            marker_56605bfc1672e414e5700e0f16b5e660.bindTooltip(\n",
       "                `&lt;div&gt;\n",
       "                     Osmaniye\n",
       "                 &lt;/div&gt;`,\n",
       "                {&quot;sticky&quot;: true}\n",
       "            );\n",
       "        \n",
       "    \n",
       "            var marker_036f50208d6244c92b2fff35e5373681 = L.marker(\n",
       "                [37.06622, 37.38332],\n",
       "                {}\n",
       "            ).addTo(map_3a312b2e456d57435ab73eed584a0c2e);\n",
       "        \n",
       "    \n",
       "            var icon_9c14d5893ed90470bb89056cdd214ab7 = L.AwesomeMarkers.icon(\n",
       "                {&quot;extraClasses&quot;: &quot;fa-rotate-0&quot;, &quot;icon&quot;: &quot;info-sign&quot;, &quot;iconColor&quot;: &quot;white&quot;, &quot;markerColor&quot;: &quot;yellow&quot;, &quot;prefix&quot;: &quot;glyphicon&quot;}\n",
       "            );\n",
       "            marker_036f50208d6244c92b2fff35e5373681.setIcon(icon_9c14d5893ed90470bb89056cdd214ab7);\n",
       "        \n",
       "    \n",
       "            marker_036f50208d6244c92b2fff35e5373681.bindTooltip(\n",
       "                `&lt;div&gt;\n",
       "                     Gaziantep\n",
       "                 &lt;/div&gt;`,\n",
       "                {&quot;sticky&quot;: true}\n",
       "            );\n",
       "        \n",
       "    \n",
       "            var marker_4ddec8bb11ad2baf72a5724c49db53f3 = L.marker(\n",
       "                [37.0, 35.321333],\n",
       "                {}\n",
       "            ).addTo(map_3a312b2e456d57435ab73eed584a0c2e);\n",
       "        \n",
       "    \n",
       "            var icon_a0278d1fc17d750f9321ea7ee4930698 = L.AwesomeMarkers.icon(\n",
       "                {&quot;extraClasses&quot;: &quot;fa-rotate-0&quot;, &quot;icon&quot;: &quot;info-sign&quot;, &quot;iconColor&quot;: &quot;white&quot;, &quot;markerColor&quot;: &quot;yellow&quot;, &quot;prefix&quot;: &quot;glyphicon&quot;}\n",
       "            );\n",
       "            marker_4ddec8bb11ad2baf72a5724c49db53f3.setIcon(icon_a0278d1fc17d750f9321ea7ee4930698);\n",
       "        \n",
       "    \n",
       "            marker_4ddec8bb11ad2baf72a5724c49db53f3.bindTooltip(\n",
       "                `&lt;div&gt;\n",
       "                     Adana\n",
       "                 &lt;/div&gt;`,\n",
       "                {&quot;sticky&quot;: true}\n",
       "            );\n",
       "        \n",
       "    \n",
       "            var marker_46a5703b3ef1d2e895965c6e51b8baa6 = L.marker(\n",
       "                [36.718399, 37.12122],\n",
       "                {}\n",
       "            ).addTo(map_3a312b2e456d57435ab73eed584a0c2e);\n",
       "        \n",
       "    \n",
       "            var icon_26bcdf19e00a65a185f3193ad64173ac = L.AwesomeMarkers.icon(\n",
       "                {&quot;extraClasses&quot;: &quot;fa-rotate-0&quot;, &quot;icon&quot;: &quot;info-sign&quot;, &quot;iconColor&quot;: &quot;white&quot;, &quot;markerColor&quot;: &quot;yellow&quot;, &quot;prefix&quot;: &quot;glyphicon&quot;}\n",
       "            );\n",
       "            marker_46a5703b3ef1d2e895965c6e51b8baa6.setIcon(icon_26bcdf19e00a65a185f3193ad64173ac);\n",
       "        \n",
       "    \n",
       "            marker_46a5703b3ef1d2e895965c6e51b8baa6.bindTooltip(\n",
       "                `&lt;div&gt;\n",
       "                     Kilis\n",
       "                 &lt;/div&gt;`,\n",
       "                {&quot;sticky&quot;: true}\n",
       "            );\n",
       "        \n",
       "    \n",
       "            var marker_f7ef352a230c9649e4e857f937cbdedc = L.marker(\n",
       "                [38.35519, 38.30946],\n",
       "                {}\n",
       "            ).addTo(map_3a312b2e456d57435ab73eed584a0c2e);\n",
       "        \n",
       "    \n",
       "            var icon_66a10ee8c98d57a4fea110f33b40a0a1 = L.AwesomeMarkers.icon(\n",
       "                {&quot;extraClasses&quot;: &quot;fa-rotate-0&quot;, &quot;icon&quot;: &quot;info-sign&quot;, &quot;iconColor&quot;: &quot;white&quot;, &quot;markerColor&quot;: &quot;yellow&quot;, &quot;prefix&quot;: &quot;glyphicon&quot;}\n",
       "            );\n",
       "            marker_f7ef352a230c9649e4e857f937cbdedc.setIcon(icon_66a10ee8c98d57a4fea110f33b40a0a1);\n",
       "        \n",
       "    \n",
       "            marker_f7ef352a230c9649e4e857f937cbdedc.bindTooltip(\n",
       "                `&lt;div&gt;\n",
       "                     Malatya\n",
       "                 &lt;/div&gt;`,\n",
       "                {&quot;sticky&quot;: true}\n",
       "            );\n",
       "        \n",
       "    \n",
       "            var marker_14c33dd0d86c09399af2a0bde42cf294 = L.marker(\n",
       "                [37.91441, 40.230629],\n",
       "                {}\n",
       "            ).addTo(map_3a312b2e456d57435ab73eed584a0c2e);\n",
       "        \n",
       "    \n",
       "            var icon_6b0b2eb66b62497e6590b355281e7ff4 = L.AwesomeMarkers.icon(\n",
       "                {&quot;extraClasses&quot;: &quot;fa-rotate-0&quot;, &quot;icon&quot;: &quot;info-sign&quot;, &quot;iconColor&quot;: &quot;white&quot;, &quot;markerColor&quot;: &quot;yellow&quot;, &quot;prefix&quot;: &quot;glyphicon&quot;}\n",
       "            );\n",
       "            marker_14c33dd0d86c09399af2a0bde42cf294.setIcon(icon_6b0b2eb66b62497e6590b355281e7ff4);\n",
       "        \n",
       "    \n",
       "            marker_14c33dd0d86c09399af2a0bde42cf294.bindTooltip(\n",
       "                `&lt;div&gt;\n",
       "                     Diyarbakır\n",
       "                 &lt;/div&gt;`,\n",
       "                {&quot;sticky&quot;: true}\n",
       "            );\n",
       "        \n",
       "    \n",
       "            var marker_9b77e4f821a8e9183e88b394ba5c3659 = L.marker(\n",
       "                [37.159149, 38.796909],\n",
       "                {}\n",
       "            ).addTo(map_3a312b2e456d57435ab73eed584a0c2e);\n",
       "        \n",
       "    \n",
       "            var icon_bf38630ebfe2c31d69863aa8a24a475d = L.AwesomeMarkers.icon(\n",
       "                {&quot;extraClasses&quot;: &quot;fa-rotate-0&quot;, &quot;icon&quot;: &quot;info-sign&quot;, &quot;iconColor&quot;: &quot;white&quot;, &quot;markerColor&quot;: &quot;yellow&quot;, &quot;prefix&quot;: &quot;glyphicon&quot;}\n",
       "            );\n",
       "            marker_9b77e4f821a8e9183e88b394ba5c3659.setIcon(icon_bf38630ebfe2c31d69863aa8a24a475d);\n",
       "        \n",
       "    \n",
       "            marker_9b77e4f821a8e9183e88b394ba5c3659.bindTooltip(\n",
       "                `&lt;div&gt;\n",
       "                     Şanlıurfa\n",
       "                 &lt;/div&gt;`,\n",
       "                {&quot;sticky&quot;: true}\n",
       "            );\n",
       "        \n",
       "    \n",
       "            var marker_4b9494d9a600c7df245c5ddd59b8d19f = L.marker(\n",
       "                [38.680969, 39.226398],\n",
       "                {}\n",
       "            ).addTo(map_3a312b2e456d57435ab73eed584a0c2e);\n",
       "        \n",
       "    \n",
       "            var icon_c7062ba5772f18205c05ba69f19f3ce4 = L.AwesomeMarkers.icon(\n",
       "                {&quot;extraClasses&quot;: &quot;fa-rotate-0&quot;, &quot;icon&quot;: &quot;info-sign&quot;, &quot;iconColor&quot;: &quot;white&quot;, &quot;markerColor&quot;: &quot;yellow&quot;, &quot;prefix&quot;: &quot;glyphicon&quot;}\n",
       "            );\n",
       "            marker_4b9494d9a600c7df245c5ddd59b8d19f.setIcon(icon_c7062ba5772f18205c05ba69f19f3ce4);\n",
       "        \n",
       "    \n",
       "            marker_4b9494d9a600c7df245c5ddd59b8d19f.bindTooltip(\n",
       "                `&lt;div&gt;\n",
       "                     Elazığ\n",
       "                 &lt;/div&gt;`,\n",
       "                {&quot;sticky&quot;: true}\n",
       "            );\n",
       "        \n",
       "    \n",
       "            var poly_line_2535ee4d011664d9b3b39ea382dc399f = L.polyline(\n",
       "                [[39.92077, 32.85411], [37.0, 35.321333]],\n",
       "                {&quot;bubblingMouseEvents&quot;: true, &quot;color&quot;: &quot;green&quot;, &quot;dashArray&quot;: null, &quot;dashOffset&quot;: null, &quot;fill&quot;: false, &quot;fillColor&quot;: &quot;green&quot;, &quot;fillOpacity&quot;: 0.2, &quot;fillRule&quot;: &quot;evenodd&quot;, &quot;lineCap&quot;: &quot;round&quot;, &quot;lineJoin&quot;: &quot;round&quot;, &quot;noClip&quot;: false, &quot;opacity&quot;: 1.0, &quot;smoothFactor&quot;: 1.0, &quot;stroke&quot;: true, &quot;weight&quot;: 2}\n",
       "            ).addTo(map_3a312b2e456d57435ab73eed584a0c2e);\n",
       "        \n",
       "    \n",
       "            var poly_line_5153ab9979106487a6b9da10cfca2be9 = L.polyline(\n",
       "                [[39.92077, 32.85411], [37.0, 35.321333]],\n",
       "                {&quot;bubblingMouseEvents&quot;: true, &quot;color&quot;: &quot;blue&quot;, &quot;dashArray&quot;: null, &quot;dashOffset&quot;: null, &quot;fill&quot;: false, &quot;fillColor&quot;: &quot;blue&quot;, &quot;fillOpacity&quot;: 0.2, &quot;fillRule&quot;: &quot;evenodd&quot;, &quot;lineCap&quot;: &quot;round&quot;, &quot;lineJoin&quot;: &quot;round&quot;, &quot;noClip&quot;: false, &quot;opacity&quot;: 1.0, &quot;smoothFactor&quot;: 1.0, &quot;stroke&quot;: true, &quot;weight&quot;: 2}\n",
       "            ).addTo(map_3a312b2e456d57435ab73eed584a0c2e);\n",
       "        \n",
       "    \n",
       "            var poly_line_827164e5af136a7028b3eafed06b11a2 = L.polyline(\n",
       "                [[39.92077, 32.85411], [37.764751, 38.278561]],\n",
       "                {&quot;bubblingMouseEvents&quot;: true, &quot;color&quot;: &quot;yellow&quot;, &quot;dashArray&quot;: null, &quot;dashOffset&quot;: null, &quot;fill&quot;: false, &quot;fillColor&quot;: &quot;yellow&quot;, &quot;fillOpacity&quot;: 0.2, &quot;fillRule&quot;: &quot;evenodd&quot;, &quot;lineCap&quot;: &quot;round&quot;, &quot;lineJoin&quot;: &quot;round&quot;, &quot;noClip&quot;: false, &quot;opacity&quot;: 1.0, &quot;smoothFactor&quot;: 1.0, &quot;stroke&quot;: true, &quot;weight&quot;: 2}\n",
       "            ).addTo(map_3a312b2e456d57435ab73eed584a0c2e);\n",
       "        \n",
       "    \n",
       "            var poly_line_c3f2ec9d4d75876915e17647a1f9064e = L.polyline(\n",
       "                [[39.92077, 32.85411], [37.91441, 40.230629]],\n",
       "                {&quot;bubblingMouseEvents&quot;: true, &quot;color&quot;: &quot;yellow&quot;, &quot;dashArray&quot;: null, &quot;dashOffset&quot;: null, &quot;fill&quot;: false, &quot;fillColor&quot;: &quot;yellow&quot;, &quot;fillOpacity&quot;: 0.2, &quot;fillRule&quot;: &quot;evenodd&quot;, &quot;lineCap&quot;: &quot;round&quot;, &quot;lineJoin&quot;: &quot;round&quot;, &quot;noClip&quot;: false, &quot;opacity&quot;: 1.0, &quot;smoothFactor&quot;: 1.0, &quot;stroke&quot;: true, &quot;weight&quot;: 2}\n",
       "            ).addTo(map_3a312b2e456d57435ab73eed584a0c2e);\n",
       "        \n",
       "    \n",
       "            var poly_line_782f240c3455278f3e29f3677ca8cc61 = L.polyline(\n",
       "                [[39.92077, 32.85411], [37.06622, 37.38332]],\n",
       "                {&quot;bubblingMouseEvents&quot;: true, &quot;color&quot;: &quot;blue&quot;, &quot;dashArray&quot;: null, &quot;dashOffset&quot;: null, &quot;fill&quot;: false, &quot;fillColor&quot;: &quot;blue&quot;, &quot;fillOpacity&quot;: 0.2, &quot;fillRule&quot;: &quot;evenodd&quot;, &quot;lineCap&quot;: &quot;round&quot;, &quot;lineJoin&quot;: &quot;round&quot;, &quot;noClip&quot;: false, &quot;opacity&quot;: 1.0, &quot;smoothFactor&quot;: 1.0, &quot;stroke&quot;: true, &quot;weight&quot;: 2}\n",
       "            ).addTo(map_3a312b2e456d57435ab73eed584a0c2e);\n",
       "        \n",
       "    \n",
       "            var poly_line_a9bbd5104fc5d75b4f2e200f578b0be9 = L.polyline(\n",
       "                [[39.92077, 32.85411], [36.401849, 36.34981]],\n",
       "                {&quot;bubblingMouseEvents&quot;: true, &quot;color&quot;: &quot;yellow&quot;, &quot;dashArray&quot;: null, &quot;dashOffset&quot;: null, &quot;fill&quot;: false, &quot;fillColor&quot;: &quot;yellow&quot;, &quot;fillOpacity&quot;: 0.2, &quot;fillRule&quot;: &quot;evenodd&quot;, &quot;lineCap&quot;: &quot;round&quot;, &quot;lineJoin&quot;: &quot;round&quot;, &quot;noClip&quot;: false, &quot;opacity&quot;: 1.0, &quot;smoothFactor&quot;: 1.0, &quot;stroke&quot;: true, &quot;weight&quot;: 2}\n",
       "            ).addTo(map_3a312b2e456d57435ab73eed584a0c2e);\n",
       "        \n",
       "    \n",
       "            var poly_line_7c0f62e6aa844223253b3c724531e91a = L.polyline(\n",
       "                [[39.92077, 32.85411], [36.401849, 36.34981]],\n",
       "                {&quot;bubblingMouseEvents&quot;: true, &quot;color&quot;: &quot;green&quot;, &quot;dashArray&quot;: null, &quot;dashOffset&quot;: null, &quot;fill&quot;: false, &quot;fillColor&quot;: &quot;green&quot;, &quot;fillOpacity&quot;: 0.2, &quot;fillRule&quot;: &quot;evenodd&quot;, &quot;lineCap&quot;: &quot;round&quot;, &quot;lineJoin&quot;: &quot;round&quot;, &quot;noClip&quot;: false, &quot;opacity&quot;: 1.0, &quot;smoothFactor&quot;: 1.0, &quot;stroke&quot;: true, &quot;weight&quot;: 2}\n",
       "            ).addTo(map_3a312b2e456d57435ab73eed584a0c2e);\n",
       "        \n",
       "    \n",
       "            var poly_line_0e9bb3fcb8d8841c5e8e0f650aa93cb9 = L.polyline(\n",
       "                [[39.92077, 32.85411], [37.585831, 36.937149]],\n",
       "                {&quot;bubblingMouseEvents&quot;: true, &quot;color&quot;: &quot;blue&quot;, &quot;dashArray&quot;: null, &quot;dashOffset&quot;: null, &quot;fill&quot;: false, &quot;fillColor&quot;: &quot;blue&quot;, &quot;fillOpacity&quot;: 0.2, &quot;fillRule&quot;: &quot;evenodd&quot;, &quot;lineCap&quot;: &quot;round&quot;, &quot;lineJoin&quot;: &quot;round&quot;, &quot;noClip&quot;: false, &quot;opacity&quot;: 1.0, &quot;smoothFactor&quot;: 1.0, &quot;stroke&quot;: true, &quot;weight&quot;: 2}\n",
       "            ).addTo(map_3a312b2e456d57435ab73eed584a0c2e);\n",
       "        \n",
       "    \n",
       "            var poly_line_9d7cdfb786a9800c8b5df50706cf1930 = L.polyline(\n",
       "                [[39.92077, 32.85411], [36.718399, 37.12122]],\n",
       "                {&quot;bubblingMouseEvents&quot;: true, &quot;color&quot;: &quot;blue&quot;, &quot;dashArray&quot;: null, &quot;dashOffset&quot;: null, &quot;fill&quot;: false, &quot;fillColor&quot;: &quot;blue&quot;, &quot;fillOpacity&quot;: 0.2, &quot;fillRule&quot;: &quot;evenodd&quot;, &quot;lineCap&quot;: &quot;round&quot;, &quot;lineJoin&quot;: &quot;round&quot;, &quot;noClip&quot;: false, &quot;opacity&quot;: 1.0, &quot;smoothFactor&quot;: 1.0, &quot;stroke&quot;: true, &quot;weight&quot;: 2}\n",
       "            ).addTo(map_3a312b2e456d57435ab73eed584a0c2e);\n",
       "        \n",
       "    \n",
       "            var poly_line_37e52f7cf18cda1f95a1b17e7c0ba58d = L.polyline(\n",
       "                [[39.92077, 32.85411], [37.159149, 38.796909]],\n",
       "                {&quot;bubblingMouseEvents&quot;: true, &quot;color&quot;: &quot;yellow&quot;, &quot;dashArray&quot;: null, &quot;dashOffset&quot;: null, &quot;fill&quot;: false, &quot;fillColor&quot;: &quot;yellow&quot;, &quot;fillOpacity&quot;: 0.2, &quot;fillRule&quot;: &quot;evenodd&quot;, &quot;lineCap&quot;: &quot;round&quot;, &quot;lineJoin&quot;: &quot;round&quot;, &quot;noClip&quot;: false, &quot;opacity&quot;: 1.0, &quot;smoothFactor&quot;: 1.0, &quot;stroke&quot;: true, &quot;weight&quot;: 2}\n",
       "            ).addTo(map_3a312b2e456d57435ab73eed584a0c2e);\n",
       "        \n",
       "    \n",
       "            var poly_line_952d30183986b880fa9b3fc3cef080f8 = L.polyline(\n",
       "                [[36.88414, 30.70563], [37.0, 35.321333]],\n",
       "                {&quot;bubblingMouseEvents&quot;: true, &quot;color&quot;: &quot;yellow&quot;, &quot;dashArray&quot;: null, &quot;dashOffset&quot;: null, &quot;fill&quot;: false, &quot;fillColor&quot;: &quot;yellow&quot;, &quot;fillOpacity&quot;: 0.2, &quot;fillRule&quot;: &quot;evenodd&quot;, &quot;lineCap&quot;: &quot;round&quot;, &quot;lineJoin&quot;: &quot;round&quot;, &quot;noClip&quot;: false, &quot;opacity&quot;: 1.0, &quot;smoothFactor&quot;: 1.0, &quot;stroke&quot;: true, &quot;weight&quot;: 2}\n",
       "            ).addTo(map_3a312b2e456d57435ab73eed584a0c2e);\n",
       "        \n",
       "    \n",
       "            var poly_line_f19b7ba6aec978b6c08f3ba8b693e0ff = L.polyline(\n",
       "                [[36.88414, 30.70563], [37.764751, 38.278561]],\n",
       "                {&quot;bubblingMouseEvents&quot;: true, &quot;color&quot;: &quot;blue&quot;, &quot;dashArray&quot;: null, &quot;dashOffset&quot;: null, &quot;fill&quot;: false, &quot;fillColor&quot;: &quot;blue&quot;, &quot;fillOpacity&quot;: 0.2, &quot;fillRule&quot;: &quot;evenodd&quot;, &quot;lineCap&quot;: &quot;round&quot;, &quot;lineJoin&quot;: &quot;round&quot;, &quot;noClip&quot;: false, &quot;opacity&quot;: 1.0, &quot;smoothFactor&quot;: 1.0, &quot;stroke&quot;: true, &quot;weight&quot;: 2}\n",
       "            ).addTo(map_3a312b2e456d57435ab73eed584a0c2e);\n",
       "        \n",
       "    \n",
       "            var poly_line_2b679c3e2fa0a7c3369b2b25fd6246be = L.polyline(\n",
       "                [[36.88414, 30.70563], [38.680969, 39.226398]],\n",
       "                {&quot;bubblingMouseEvents&quot;: true, &quot;color&quot;: &quot;yellow&quot;, &quot;dashArray&quot;: null, &quot;dashOffset&quot;: null, &quot;fill&quot;: false, &quot;fillColor&quot;: &quot;yellow&quot;, &quot;fillOpacity&quot;: 0.2, &quot;fillRule&quot;: &quot;evenodd&quot;, &quot;lineCap&quot;: &quot;round&quot;, &quot;lineJoin&quot;: &quot;round&quot;, &quot;noClip&quot;: false, &quot;opacity&quot;: 1.0, &quot;smoothFactor&quot;: 1.0, &quot;stroke&quot;: true, &quot;weight&quot;: 2}\n",
       "            ).addTo(map_3a312b2e456d57435ab73eed584a0c2e);\n",
       "        \n",
       "    \n",
       "            var poly_line_7700c03df377e7b5c91759341e9e603b = L.polyline(\n",
       "                [[36.88414, 30.70563], [36.401849, 36.34981]],\n",
       "                {&quot;bubblingMouseEvents&quot;: true, &quot;color&quot;: &quot;blue&quot;, &quot;dashArray&quot;: null, &quot;dashOffset&quot;: null, &quot;fill&quot;: false, &quot;fillColor&quot;: &quot;blue&quot;, &quot;fillOpacity&quot;: 0.2, &quot;fillRule&quot;: &quot;evenodd&quot;, &quot;lineCap&quot;: &quot;round&quot;, &quot;lineJoin&quot;: &quot;round&quot;, &quot;noClip&quot;: false, &quot;opacity&quot;: 1.0, &quot;smoothFactor&quot;: 1.0, &quot;stroke&quot;: true, &quot;weight&quot;: 2}\n",
       "            ).addTo(map_3a312b2e456d57435ab73eed584a0c2e);\n",
       "        \n",
       "    \n",
       "            var poly_line_62ab5eb4553041b70d23682da38ae5cd = L.polyline(\n",
       "                [[36.88414, 30.70563], [37.159149, 38.796909]],\n",
       "                {&quot;bubblingMouseEvents&quot;: true, &quot;color&quot;: &quot;blue&quot;, &quot;dashArray&quot;: null, &quot;dashOffset&quot;: null, &quot;fill&quot;: false, &quot;fillColor&quot;: &quot;blue&quot;, &quot;fillOpacity&quot;: 0.2, &quot;fillRule&quot;: &quot;evenodd&quot;, &quot;lineCap&quot;: &quot;round&quot;, &quot;lineJoin&quot;: &quot;round&quot;, &quot;noClip&quot;: false, &quot;opacity&quot;: 1.0, &quot;smoothFactor&quot;: 1.0, &quot;stroke&quot;: true, &quot;weight&quot;: 2}\n",
       "            ).addTo(map_3a312b2e456d57435ab73eed584a0c2e);\n",
       "        \n",
       "    \n",
       "            var poly_line_2769dea17c451fddcf09b0b0204bf2f8 = L.polyline(\n",
       "                [[41.00527, 28.97696], [37.764751, 38.278561]],\n",
       "                {&quot;bubblingMouseEvents&quot;: true, &quot;color&quot;: &quot;green&quot;, &quot;dashArray&quot;: null, &quot;dashOffset&quot;: null, &quot;fill&quot;: false, &quot;fillColor&quot;: &quot;green&quot;, &quot;fillOpacity&quot;: 0.2, &quot;fillRule&quot;: &quot;evenodd&quot;, &quot;lineCap&quot;: &quot;round&quot;, &quot;lineJoin&quot;: &quot;round&quot;, &quot;noClip&quot;: false, &quot;opacity&quot;: 1.0, &quot;smoothFactor&quot;: 1.0, &quot;stroke&quot;: true, &quot;weight&quot;: 2}\n",
       "            ).addTo(map_3a312b2e456d57435ab73eed584a0c2e);\n",
       "        \n",
       "    \n",
       "            var poly_line_e384eb39e0656213a5061ef20b81e4ed = L.polyline(\n",
       "                [[41.00527, 28.97696], [37.91441, 40.230629]],\n",
       "                {&quot;bubblingMouseEvents&quot;: true, &quot;color&quot;: &quot;green&quot;, &quot;dashArray&quot;: null, &quot;dashOffset&quot;: null, &quot;fill&quot;: false, &quot;fillColor&quot;: &quot;green&quot;, &quot;fillOpacity&quot;: 0.2, &quot;fillRule&quot;: &quot;evenodd&quot;, &quot;lineCap&quot;: &quot;round&quot;, &quot;lineJoin&quot;: &quot;round&quot;, &quot;noClip&quot;: false, &quot;opacity&quot;: 1.0, &quot;smoothFactor&quot;: 1.0, &quot;stroke&quot;: true, &quot;weight&quot;: 2}\n",
       "            ).addTo(map_3a312b2e456d57435ab73eed584a0c2e);\n",
       "        \n",
       "    \n",
       "            var poly_line_8265d01c54d752c8a8887e9488956e7b = L.polyline(\n",
       "                [[41.00527, 28.97696], [37.91441, 40.230629]],\n",
       "                {&quot;bubblingMouseEvents&quot;: true, &quot;color&quot;: &quot;blue&quot;, &quot;dashArray&quot;: null, &quot;dashOffset&quot;: null, &quot;fill&quot;: false, &quot;fillColor&quot;: &quot;blue&quot;, &quot;fillOpacity&quot;: 0.2, &quot;fillRule&quot;: &quot;evenodd&quot;, &quot;lineCap&quot;: &quot;round&quot;, &quot;lineJoin&quot;: &quot;round&quot;, &quot;noClip&quot;: false, &quot;opacity&quot;: 1.0, &quot;smoothFactor&quot;: 1.0, &quot;stroke&quot;: true, &quot;weight&quot;: 2}\n",
       "            ).addTo(map_3a312b2e456d57435ab73eed584a0c2e);\n",
       "        \n",
       "    \n",
       "            var poly_line_9fc9d1e900aa056613550ac322699854 = L.polyline(\n",
       "                [[41.00527, 28.97696], [38.680969, 39.226398]],\n",
       "                {&quot;bubblingMouseEvents&quot;: true, &quot;color&quot;: &quot;yellow&quot;, &quot;dashArray&quot;: null, &quot;dashOffset&quot;: null, &quot;fill&quot;: false, &quot;fillColor&quot;: &quot;yellow&quot;, &quot;fillOpacity&quot;: 0.2, &quot;fillRule&quot;: &quot;evenodd&quot;, &quot;lineCap&quot;: &quot;round&quot;, &quot;lineJoin&quot;: &quot;round&quot;, &quot;noClip&quot;: false, &quot;opacity&quot;: 1.0, &quot;smoothFactor&quot;: 1.0, &quot;stroke&quot;: true, &quot;weight&quot;: 2}\n",
       "            ).addTo(map_3a312b2e456d57435ab73eed584a0c2e);\n",
       "        \n",
       "    \n",
       "            var poly_line_ed75cd0b7ca7ed7728216ffa9b0844b6 = L.polyline(\n",
       "                [[41.00527, 28.97696], [37.585831, 36.937149]],\n",
       "                {&quot;bubblingMouseEvents&quot;: true, &quot;color&quot;: &quot;yellow&quot;, &quot;dashArray&quot;: null, &quot;dashOffset&quot;: null, &quot;fill&quot;: false, &quot;fillColor&quot;: &quot;yellow&quot;, &quot;fillOpacity&quot;: 0.2, &quot;fillRule&quot;: &quot;evenodd&quot;, &quot;lineCap&quot;: &quot;round&quot;, &quot;lineJoin&quot;: &quot;round&quot;, &quot;noClip&quot;: false, &quot;opacity&quot;: 1.0, &quot;smoothFactor&quot;: 1.0, &quot;stroke&quot;: true, &quot;weight&quot;: 2}\n",
       "            ).addTo(map_3a312b2e456d57435ab73eed584a0c2e);\n",
       "        \n",
       "    \n",
       "            var poly_line_6a25954eb027bec477a9ff4926bd9526 = L.polyline(\n",
       "                [[41.00527, 28.97696], [36.718399, 37.12122]],\n",
       "                {&quot;bubblingMouseEvents&quot;: true, &quot;color&quot;: &quot;yellow&quot;, &quot;dashArray&quot;: null, &quot;dashOffset&quot;: null, &quot;fill&quot;: false, &quot;fillColor&quot;: &quot;yellow&quot;, &quot;fillOpacity&quot;: 0.2, &quot;fillRule&quot;: &quot;evenodd&quot;, &quot;lineCap&quot;: &quot;round&quot;, &quot;lineJoin&quot;: &quot;round&quot;, &quot;noClip&quot;: false, &quot;opacity&quot;: 1.0, &quot;smoothFactor&quot;: 1.0, &quot;stroke&quot;: true, &quot;weight&quot;: 2}\n",
       "            ).addTo(map_3a312b2e456d57435ab73eed584a0c2e);\n",
       "        \n",
       "    \n",
       "            var poly_line_96779f63eec84a790f0087fd693a9b81 = L.polyline(\n",
       "                [[41.00527, 28.97696], [38.35519, 38.30946]],\n",
       "                {&quot;bubblingMouseEvents&quot;: true, &quot;color&quot;: &quot;blue&quot;, &quot;dashArray&quot;: null, &quot;dashOffset&quot;: null, &quot;fill&quot;: false, &quot;fillColor&quot;: &quot;blue&quot;, &quot;fillOpacity&quot;: 0.2, &quot;fillRule&quot;: &quot;evenodd&quot;, &quot;lineCap&quot;: &quot;round&quot;, &quot;lineJoin&quot;: &quot;round&quot;, &quot;noClip&quot;: false, &quot;opacity&quot;: 1.0, &quot;smoothFactor&quot;: 1.0, &quot;stroke&quot;: true, &quot;weight&quot;: 2}\n",
       "            ).addTo(map_3a312b2e456d57435ab73eed584a0c2e);\n",
       "        \n",
       "    \n",
       "            var poly_line_66531b1a5efd6ba9e9d9f2de17b67622 = L.polyline(\n",
       "                [[41.00527, 28.97696], [37.213026, 36.176261]],\n",
       "                {&quot;bubblingMouseEvents&quot;: true, &quot;color&quot;: &quot;yellow&quot;, &quot;dashArray&quot;: null, &quot;dashOffset&quot;: null, &quot;fill&quot;: false, &quot;fillColor&quot;: &quot;yellow&quot;, &quot;fillOpacity&quot;: 0.2, &quot;fillRule&quot;: &quot;evenodd&quot;, &quot;lineCap&quot;: &quot;round&quot;, &quot;lineJoin&quot;: &quot;round&quot;, &quot;noClip&quot;: false, &quot;opacity&quot;: 1.0, &quot;smoothFactor&quot;: 1.0, &quot;stroke&quot;: true, &quot;weight&quot;: 2}\n",
       "            ).addTo(map_3a312b2e456d57435ab73eed584a0c2e);\n",
       "        \n",
       "    \n",
       "            var poly_line_ae31df30d72f753c03df8020a5bad421 = L.polyline(\n",
       "                [[41.00527, 28.97696], [37.213026, 36.176261]],\n",
       "                {&quot;bubblingMouseEvents&quot;: true, &quot;color&quot;: &quot;green&quot;, &quot;dashArray&quot;: null, &quot;dashOffset&quot;: null, &quot;fill&quot;: false, &quot;fillColor&quot;: &quot;green&quot;, &quot;fillOpacity&quot;: 0.2, &quot;fillRule&quot;: &quot;evenodd&quot;, &quot;lineCap&quot;: &quot;round&quot;, &quot;lineJoin&quot;: &quot;round&quot;, &quot;noClip&quot;: false, &quot;opacity&quot;: 1.0, &quot;smoothFactor&quot;: 1.0, &quot;stroke&quot;: true, &quot;weight&quot;: 2}\n",
       "            ).addTo(map_3a312b2e456d57435ab73eed584a0c2e);\n",
       "        \n",
       "    \n",
       "            var poly_line_36fe603f609a5e1b42bf41296f2469e6 = L.polyline(\n",
       "                [[41.00527, 28.97696], [37.159149, 38.796909]],\n",
       "                {&quot;bubblingMouseEvents&quot;: true, &quot;color&quot;: &quot;green&quot;, &quot;dashArray&quot;: null, &quot;dashOffset&quot;: null, &quot;fill&quot;: false, &quot;fillColor&quot;: &quot;green&quot;, &quot;fillOpacity&quot;: 0.2, &quot;fillRule&quot;: &quot;evenodd&quot;, &quot;lineCap&quot;: &quot;round&quot;, &quot;lineJoin&quot;: &quot;round&quot;, &quot;noClip&quot;: false, &quot;opacity&quot;: 1.0, &quot;smoothFactor&quot;: 1.0, &quot;stroke&quot;: true, &quot;weight&quot;: 2}\n",
       "            ).addTo(map_3a312b2e456d57435ab73eed584a0c2e);\n",
       "        \n",
       "    \n",
       "            var poly_line_5cc4b37bd7c2382f05041fcbcf7e5426 = L.polyline(\n",
       "                [[41.292782, 36.33128], [38.680969, 39.226398]],\n",
       "                {&quot;bubblingMouseEvents&quot;: true, &quot;color&quot;: &quot;blue&quot;, &quot;dashArray&quot;: null, &quot;dashOffset&quot;: null, &quot;fill&quot;: false, &quot;fillColor&quot;: &quot;blue&quot;, &quot;fillOpacity&quot;: 0.2, &quot;fillRule&quot;: &quot;evenodd&quot;, &quot;lineCap&quot;: &quot;round&quot;, &quot;lineJoin&quot;: &quot;round&quot;, &quot;noClip&quot;: false, &quot;opacity&quot;: 1.0, &quot;smoothFactor&quot;: 1.0, &quot;stroke&quot;: true, &quot;weight&quot;: 2}\n",
       "            ).addTo(map_3a312b2e456d57435ab73eed584a0c2e);\n",
       "        \n",
       "    \n",
       "            var poly_line_36ac3d274e5333f9e0022ffe4edbbc6e = L.polyline(\n",
       "                [[41.292782, 36.33128], [36.401849, 36.34981]],\n",
       "                {&quot;bubblingMouseEvents&quot;: true, &quot;color&quot;: &quot;blue&quot;, &quot;dashArray&quot;: null, &quot;dashOffset&quot;: null, &quot;fill&quot;: false, &quot;fillColor&quot;: &quot;blue&quot;, &quot;fillOpacity&quot;: 0.2, &quot;fillRule&quot;: &quot;evenodd&quot;, &quot;lineCap&quot;: &quot;round&quot;, &quot;lineJoin&quot;: &quot;round&quot;, &quot;noClip&quot;: false, &quot;opacity&quot;: 1.0, &quot;smoothFactor&quot;: 1.0, &quot;stroke&quot;: true, &quot;weight&quot;: 2}\n",
       "            ).addTo(map_3a312b2e456d57435ab73eed584a0c2e);\n",
       "        \n",
       "    \n",
       "            var poly_line_219a8253907c71477d042e1b4f8f2f9c = L.polyline(\n",
       "                [[41.292782, 36.33128], [36.718399, 37.12122]],\n",
       "                {&quot;bubblingMouseEvents&quot;: true, &quot;color&quot;: &quot;green&quot;, &quot;dashArray&quot;: null, &quot;dashOffset&quot;: null, &quot;fill&quot;: false, &quot;fillColor&quot;: &quot;green&quot;, &quot;fillOpacity&quot;: 0.2, &quot;fillRule&quot;: &quot;evenodd&quot;, &quot;lineCap&quot;: &quot;round&quot;, &quot;lineJoin&quot;: &quot;round&quot;, &quot;noClip&quot;: false, &quot;opacity&quot;: 1.0, &quot;smoothFactor&quot;: 1.0, &quot;stroke&quot;: true, &quot;weight&quot;: 2}\n",
       "            ).addTo(map_3a312b2e456d57435ab73eed584a0c2e);\n",
       "        \n",
       "    \n",
       "            var poly_line_ab94c50e14ae51ff4739bb02cef372af = L.polyline(\n",
       "                [[41.292782, 36.33128], [38.35519, 38.30946]],\n",
       "                {&quot;bubblingMouseEvents&quot;: true, &quot;color&quot;: &quot;yellow&quot;, &quot;dashArray&quot;: null, &quot;dashOffset&quot;: null, &quot;fill&quot;: false, &quot;fillColor&quot;: &quot;yellow&quot;, &quot;fillOpacity&quot;: 0.2, &quot;fillRule&quot;: &quot;evenodd&quot;, &quot;lineCap&quot;: &quot;round&quot;, &quot;lineJoin&quot;: &quot;round&quot;, &quot;noClip&quot;: false, &quot;opacity&quot;: 1.0, &quot;smoothFactor&quot;: 1.0, &quot;stroke&quot;: true, &quot;weight&quot;: 2}\n",
       "            ).addTo(map_3a312b2e456d57435ab73eed584a0c2e);\n",
       "        \n",
       "    \n",
       "            var poly_line_cccf3e1a82da176aa18854040ba1ab3e = L.polyline(\n",
       "                [[41.292782, 36.33128], [38.35519, 38.30946]],\n",
       "                {&quot;bubblingMouseEvents&quot;: true, &quot;color&quot;: &quot;green&quot;, &quot;dashArray&quot;: null, &quot;dashOffset&quot;: null, &quot;fill&quot;: false, &quot;fillColor&quot;: &quot;green&quot;, &quot;fillOpacity&quot;: 0.2, &quot;fillRule&quot;: &quot;evenodd&quot;, &quot;lineCap&quot;: &quot;round&quot;, &quot;lineJoin&quot;: &quot;round&quot;, &quot;noClip&quot;: false, &quot;opacity&quot;: 1.0, &quot;smoothFactor&quot;: 1.0, &quot;stroke&quot;: true, &quot;weight&quot;: 2}\n",
       "            ).addTo(map_3a312b2e456d57435ab73eed584a0c2e);\n",
       "        \n",
       "    \n",
       "            var poly_line_bf75c8f66f55aed2495bac1ba160bb10 = L.polyline(\n",
       "                [[38.41885, 27.12872], [37.764751, 38.278561]],\n",
       "                {&quot;bubblingMouseEvents&quot;: true, &quot;color&quot;: &quot;blue&quot;, &quot;dashArray&quot;: null, &quot;dashOffset&quot;: null, &quot;fill&quot;: false, &quot;fillColor&quot;: &quot;blue&quot;, &quot;fillOpacity&quot;: 0.2, &quot;fillRule&quot;: &quot;evenodd&quot;, &quot;lineCap&quot;: &quot;round&quot;, &quot;lineJoin&quot;: &quot;round&quot;, &quot;noClip&quot;: false, &quot;opacity&quot;: 1.0, &quot;smoothFactor&quot;: 1.0, &quot;stroke&quot;: true, &quot;weight&quot;: 2}\n",
       "            ).addTo(map_3a312b2e456d57435ab73eed584a0c2e);\n",
       "        \n",
       "    \n",
       "            var poly_line_cace19793d8e5117b55ece8b3f6ddd5d = L.polyline(\n",
       "                [[38.41885, 27.12872], [38.680969, 39.226398]],\n",
       "                {&quot;bubblingMouseEvents&quot;: true, &quot;color&quot;: &quot;green&quot;, &quot;dashArray&quot;: null, &quot;dashOffset&quot;: null, &quot;fill&quot;: false, &quot;fillColor&quot;: &quot;green&quot;, &quot;fillOpacity&quot;: 0.2, &quot;fillRule&quot;: &quot;evenodd&quot;, &quot;lineCap&quot;: &quot;round&quot;, &quot;lineJoin&quot;: &quot;round&quot;, &quot;noClip&quot;: false, &quot;opacity&quot;: 1.0, &quot;smoothFactor&quot;: 1.0, &quot;stroke&quot;: true, &quot;weight&quot;: 2}\n",
       "            ).addTo(map_3a312b2e456d57435ab73eed584a0c2e);\n",
       "        \n",
       "    \n",
       "            var poly_line_8319406af9ad967aea26fa52828a4880 = L.polyline(\n",
       "                [[38.41885, 27.12872], [37.06622, 37.38332]],\n",
       "                {&quot;bubblingMouseEvents&quot;: true, &quot;color&quot;: &quot;yellow&quot;, &quot;dashArray&quot;: null, &quot;dashOffset&quot;: null, &quot;fill&quot;: false, &quot;fillColor&quot;: &quot;yellow&quot;, &quot;fillOpacity&quot;: 0.2, &quot;fillRule&quot;: &quot;evenodd&quot;, &quot;lineCap&quot;: &quot;round&quot;, &quot;lineJoin&quot;: &quot;round&quot;, &quot;noClip&quot;: false, &quot;opacity&quot;: 1.0, &quot;smoothFactor&quot;: 1.0, &quot;stroke&quot;: true, &quot;weight&quot;: 2}\n",
       "            ).addTo(map_3a312b2e456d57435ab73eed584a0c2e);\n",
       "        \n",
       "    \n",
       "            var poly_line_e798a9f8b7191a3808da762a76676cd1 = L.polyline(\n",
       "                [[38.41885, 27.12872], [37.06622, 37.38332]],\n",
       "                {&quot;bubblingMouseEvents&quot;: true, &quot;color&quot;: &quot;green&quot;, &quot;dashArray&quot;: null, &quot;dashOffset&quot;: null, &quot;fill&quot;: false, &quot;fillColor&quot;: &quot;green&quot;, &quot;fillOpacity&quot;: 0.2, &quot;fillRule&quot;: &quot;evenodd&quot;, &quot;lineCap&quot;: &quot;round&quot;, &quot;lineJoin&quot;: &quot;round&quot;, &quot;noClip&quot;: false, &quot;opacity&quot;: 1.0, &quot;smoothFactor&quot;: 1.0, &quot;stroke&quot;: true, &quot;weight&quot;: 2}\n",
       "            ).addTo(map_3a312b2e456d57435ab73eed584a0c2e);\n",
       "        \n",
       "    \n",
       "            var poly_line_0b17105666bc0060fd0120c1c3ce72ea = L.polyline(\n",
       "                [[38.41885, 27.12872], [37.585831, 36.937149]],\n",
       "                {&quot;bubblingMouseEvents&quot;: true, &quot;color&quot;: &quot;green&quot;, &quot;dashArray&quot;: null, &quot;dashOffset&quot;: null, &quot;fill&quot;: false, &quot;fillColor&quot;: &quot;green&quot;, &quot;fillOpacity&quot;: 0.2, &quot;fillRule&quot;: &quot;evenodd&quot;, &quot;lineCap&quot;: &quot;round&quot;, &quot;lineJoin&quot;: &quot;round&quot;, &quot;noClip&quot;: false, &quot;opacity&quot;: 1.0, &quot;smoothFactor&quot;: 1.0, &quot;stroke&quot;: true, &quot;weight&quot;: 2}\n",
       "            ).addTo(map_3a312b2e456d57435ab73eed584a0c2e);\n",
       "        \n",
       "    \n",
       "            var poly_line_f9226fa180b8091a1c0a7a72af9a734d = L.polyline(\n",
       "                [[38.41885, 27.12872], [37.213026, 36.176261]],\n",
       "                {&quot;bubblingMouseEvents&quot;: true, &quot;color&quot;: &quot;blue&quot;, &quot;dashArray&quot;: null, &quot;dashOffset&quot;: null, &quot;fill&quot;: false, &quot;fillColor&quot;: &quot;blue&quot;, &quot;fillOpacity&quot;: 0.2, &quot;fillRule&quot;: &quot;evenodd&quot;, &quot;lineCap&quot;: &quot;round&quot;, &quot;lineJoin&quot;: &quot;round&quot;, &quot;noClip&quot;: false, &quot;opacity&quot;: 1.0, &quot;smoothFactor&quot;: 1.0, &quot;stroke&quot;: true, &quot;weight&quot;: 2}\n",
       "            ).addTo(map_3a312b2e456d57435ab73eed584a0c2e);\n",
       "        \n",
       "&lt;/script&gt;\n",
       "&lt;/html&gt;\" style=\"position:absolute;width:100%;height:100%;left:0;top:0;border:none !important;\" allowfullscreen webkitallowfullscreen mozallowfullscreen></iframe></div></div>"
      ],
      "text/plain": [
       "<folium.folium.Map at 0x10e486920>"
      ]
     },
     "execution_count": 1,
     "metadata": {},
     "output_type": "execute_result"
    }
   ],
   "source": [
    "# Map\n",
    "\n",
    "import folium\n",
    "\n",
    "# Create a map centered on Turkey\n",
    "m = folium.Map(location=[39.9255, 32.8662], zoom_start=6)\n",
    "\n",
    "# Define the coordinates of Istanbul, Antalya, Izmir, Samsun, and Ankara\n",
    "istanbul_coords = (41.00527, 28.97696)\n",
    "antalya_coords = (36.88414, 30.70563)\n",
    "izmir_coords = (38.41885, 27.12872)\n",
    "samsun_coords = (41.292782, 36.33128)\n",
    "ankara_coords = (39.92077, 32.85411)\n",
    "\n",
    "# Mark Istanbul, Antalya, Izmir, Samsun, and Ankara with red markers\n",
    "folium.Marker(\n",
    "    location=istanbul_coords,\n",
    "    icon=folium.Icon(color='red', icon='info-sign'),\n",
    "    tooltip=\"Istanbul\"\n",
    ").add_to(m)\n",
    "\n",
    "folium.Marker(\n",
    "    location=antalya_coords,\n",
    "    icon=folium.Icon(color='red', icon='info-sign'),\n",
    "    tooltip=\"Antalya\"\n",
    ").add_to(m)\n",
    "\n",
    "folium.Marker(\n",
    "    location=izmir_coords,\n",
    "    icon=folium.Icon(color='red', icon='info-sign'),\n",
    "    tooltip=\"Izmir\"\n",
    ").add_to(m)\n",
    "\n",
    "folium.Marker(\n",
    "    location=samsun_coords,\n",
    "    icon=folium.Icon(color='red', icon='info-sign'),\n",
    "    tooltip=\"Samsun\"\n",
    ").add_to(m)\n",
    "\n",
    "folium.Marker(\n",
    "    location=ankara_coords,\n",
    "    icon=folium.Icon(color='red', icon='info-sign'),\n",
    "    tooltip=\"Ankara\"\n",
    ").add_to(m)\n",
    "\n",
    "# Define the coordinates of Kahramanmaraş, Hatay, Adıyaman, Osmaniye, Gaziantep, Adana, Kilis,\n",
    "# Malatya, Diyarbakır, Şanlıurfa, and Elazığ\n",
    "kahramanmaras_coords = (37.585831, 36.937149)\n",
    "hatay_coords = (36.401849, 36.34981)\n",
    "adiyaman_coords = (37.764751, 38.278561)\n",
    "osmaniye_coords = (37.213026, 36.176261)\n",
    "gaziantep_coords = (37.06622, 37.38332)\n",
    "adana_coords = (37.00000, 35.321333)\n",
    "kilis_coords = (36.718399, 37.12122)\n",
    "malatya_coords = (38.35519, 38.30946)\n",
    "diyarbakir_coords = (37.91441, 40.230629)\n",
    "sanliurfa_coords = (37.159149, 38.796909)\n",
    "elazig_coords = (38.680969, 39.226398)\n",
    "\n",
    "# Mark Kahramanmaraş, Hatay, Adıyaman, Osmaniye, Gaziantep, Adana, Kilis,\n",
    "# Malatya, Diyarbakır, Şanlıurfa, and Elazığ with yellow markers\n",
    "folium.Marker(\n",
    "    location=kahramanmaras_coords,\n",
    "    icon=folium.Icon(color='yellow', icon='info-sign'),\n",
    "    tooltip=\"Kahramanmaras\"\n",
    ").add_to(m)\n",
    "\n",
    "folium.Marker(\n",
    "    location=hatay_coords,\n",
    "    icon=folium.Icon(color='yellow', icon='info-sign'),\n",
    "    tooltip=\"Hatay\"\n",
    ").add_to(m)\n",
    "\n",
    "folium.Marker(\n",
    "    location=adiyaman_coords,\n",
    "    icon=folium.Icon(color='yellow', icon='info-sign'),\n",
    "    tooltip=\"Adıyaman\"\n",
    ").add_to(m)\n",
    "\n",
    "folium.Marker(\n",
    "    location=osmaniye_coords,\n",
    "    icon=folium.Icon(color='yellow', icon='info-sign'),\n",
    "    tooltip=\"Osmaniye\"\n",
    ").add_to(m)\n",
    "\n",
    "folium.Marker(\n",
    "    location=gaziantep_coords,\n",
    "    icon=folium.Icon(color='yellow', icon='info-sign'),\n",
    "    tooltip=\"Gaziantep\"\n",
    ").add_to(m)\n",
    "\n",
    "folium.Marker(\n",
    "    location=adana_coords,\n",
    "    icon=folium.Icon(color='yellow', icon='info-sign'),\n",
    "    tooltip=\"Adana\"\n",
    ").add_to(m)\n",
    "\n",
    "folium.Marker(\n",
    "    location=kilis_coords,\n",
    "    icon=folium.Icon(color='yellow', icon='info-sign'),\n",
    "    tooltip=\"Kilis\"\n",
    ").add_to(m)\n",
    "\n",
    "folium.Marker(\n",
    "    location=malatya_coords,\n",
    "    icon=folium.Icon(color='yellow', icon='info-sign'),\n",
    "    tooltip=\"Malatya\"\n",
    ").add_to(m)\n",
    "\n",
    "folium.Marker(\n",
    "    location=diyarbakir_coords,\n",
    "    icon=folium.Icon(color='yellow', icon='info-sign'),\n",
    "    tooltip=\"Diyarbakır\"\n",
    ").add_to(m)\n",
    "\n",
    "folium.Marker(\n",
    "    location=sanliurfa_coords,\n",
    "    icon=folium.Icon(color='yellow', icon='info-sign'),\n",
    "    tooltip=\"Şanlıurfa\"\n",
    ").add_to(m)\n",
    "\n",
    "folium.Marker(\n",
    "    location=elazig_coords,\n",
    "    icon=folium.Icon(color='yellow', icon='info-sign'),\n",
    "    tooltip=\"Elazığ\"\n",
    ").add_to(m)\n",
    "\n",
    "# Define supply routes between cities, each with a specific type of supply (e.g. 'food', 'medicine', 'water') \n",
    "# and its corresponding color\n",
    "routes = {\n",
    "    ('Ankara', 'Adana', 'medicine'): 'green',\n",
    "    ('Ankara', 'Adana', 'water'): 'blue',\n",
    "    ('Ankara', 'Adıyaman', 'food'): 'yellow',\n",
    "    ('Ankara', 'Diyarbakır', 'food'): 'yellow',\n",
    "    ('Ankara', 'Gaziantep', 'water'): 'blue',\n",
    "    ('Ankara', 'Hatay', 'food'): 'yellow',\n",
    "    ('Ankara', 'Hatay', 'medicine'): 'green',\n",
    "    ('Ankara', 'Kahramanmaras', 'water'): 'blue',\n",
    "    ('Ankara', 'Kilis', 'water'): 'blue',\n",
    "    ('Ankara', 'Şanlıurfa', 'food'): 'yellow',\n",
    "    ('Antalya', 'Adana', 'food'): 'yellow',\n",
    "    ('Antalya', 'Adıyaman', 'water'): 'blue',\n",
    "    ('Antalya', 'Elazığ', 'food'): 'yellow',\n",
    "    ('Antalya', 'Hatay', 'water'): 'blue',\n",
    "    ('Antalya', 'Şanlıurfa', 'water'): 'blue',\n",
    "    ('Istanbul', 'Adıyaman', 'medicine'): 'green',\n",
    "    ('Istanbul', 'Diyarbakır', 'medicine'): 'green',\n",
    "    ('Istanbul', 'Diyarbakır', 'water'): 'blue',\n",
    "    ('Istanbul', 'Elazığ', 'food'): 'yellow',\n",
    "    ('Istanbul', 'Kahramanmaras', 'food'): 'yellow',\n",
    "    ('Istanbul', 'Kilis', 'food'): 'yellow',\n",
    "    ('Istanbul', 'Malatya', 'water'): 'blue',\n",
    "    ('Istanbul', 'Osmaniye', 'food'): 'yellow',\n",
    "    ('Istanbul', 'Osmaniye', 'medicine'): 'green',\n",
    "    ('Istanbul', 'Şanlıurfa', 'medicine'): 'green',\n",
    "    ('Samsun', 'Elazığ', 'water'): 'blue',\n",
    "    ('Samsun', 'Hatay', 'water'): 'blue',\n",
    "    ('Samsun', 'Kilis', 'medicine'): 'green',\n",
    "    ('Samsun', 'Malatya', 'food'): 'yellow',\n",
    "    ('Samsun', 'Malatya', 'medicine'): 'green',\n",
    "    ('Izmir', 'Adıyaman', 'water'): 'blue',\n",
    "    ('Izmir', 'Elazığ', 'medicine'): 'green',\n",
    "    ('Izmir', 'Gaziantep', 'food'): 'yellow',\n",
    "    ('Izmir', 'Gaziantep', 'medicine'): 'green',\n",
    "    ('Izmir', 'Kahramanmaras', 'medicine'): 'green',\n",
    "    ('Izmir', 'Osmaniye', 'water'): 'blue'\n",
    "}\n",
    "\n",
    "# Draw these supply routes on the map using lines (PolyLine), with the color indicating the type of supply\n",
    "for route, color in routes.items():\n",
    "    start_coords = eval(route[0].lower().replace('ı', 'i').replace('ş', 's') + '_coords')\n",
    "    end_coords = eval(route[1].lower().replace('ı', 'i').replace('ş', 's').replace('ğ', 'g') + '_coords')\n",
    "    folium.PolyLine(\n",
    "        locations=[start_coords, end_coords],\n",
    "        color=color,\n",
    "        weight=2\n",
    "    ).add_to(m)\n",
    "\n",
    "# Add legend to the map to explain what each color means\n",
    "# This is done by adding a custom HTML element to the map\n",
    "legend_html = '''\n",
    "<div style=\"position: fixed; \n",
    "            bottom: 40px; left: 40px; width: 120px; height: 140px; \n",
    "            border:2px solid grey; z-index:9999; font-size:14px;\n",
    "            background-color:white;\n",
    "            text-align: center;\n",
    "            \">\n",
    "    <strong>Colors</strong>\n",
    "    <hr style=\"border:1px solid grey;\">\n",
    "    <div style=\"padding: -8px;\">\n",
    "        <span style=\"color:green;\">MEDICINE</span>\n",
    "    </div>\n",
    "    <div style=\"padding: -8px;\">\n",
    "        <span style=\"color:blue;\">WATER</span>\n",
    "    </div>\n",
    "    <div style=\"padding: -9px;\">\n",
    "        <span style=\"color:yellow;\">FOOD</span>\n",
    "    </div>\n",
    "</div>\n",
    "'''\n",
    "\n",
    "m.get_root().html.add_child(folium.Element(legend_html))\n",
    "\n",
    "# Display the final map\n",
    "m"
   ]
  }
 ],
 "metadata": {
  "kernelspec": {
   "display_name": "Python 3 (ipykernel)",
   "language": "python",
   "name": "python3"
  },
  "language_info": {
   "codemirror_mode": {
    "name": "ipython",
    "version": 3
   },
   "file_extension": ".py",
   "mimetype": "text/x-python",
   "name": "python",
   "nbconvert_exporter": "python",
   "pygments_lexer": "ipython3",
   "version": "3.10.4"
  }
 },
 "nbformat": 4,
 "nbformat_minor": 5
}
